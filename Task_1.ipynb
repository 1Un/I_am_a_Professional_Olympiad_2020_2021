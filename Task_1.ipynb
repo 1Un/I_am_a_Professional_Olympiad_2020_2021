{
  "nbformat": 4,
  "nbformat_minor": 0,
  "metadata": {
    "colab": {
      "name": "Task_1.ipynb",
      "provenance": [],
      "collapsed_sections": [],
      "authorship_tag": "ABX9TyPdLt9PAEMLj8KpsFb7AVL/",
      "include_colab_link": true
    },
    "kernelspec": {
      "name": "python3",
      "display_name": "Python 3"
    }
  },
  "cells": [
    {
      "cell_type": "markdown",
      "metadata": {
        "id": "view-in-github",
        "colab_type": "text"
      },
      "source": [
        "<a href=\"https://colab.research.google.com/github/1Un/I_am_a_Professional_Olympiad_2020_2021_ML/blob/main/Task_1.ipynb\" target=\"_parent\"><img src=\"https://colab.research.google.com/assets/colab-badge.svg\" alt=\"Open In Colab\"/></a>"
      ]
    },
    {
      "cell_type": "code",
      "metadata": {
        "id": "DNJ3W9Se9Xz0",
        "colab": {
          "base_uri": "https://localhost:8080/"
        },
        "outputId": "c0e483d6-1d21-4849-a460-d83e8f83a12b"
      },
      "source": [
        "from google.colab import drive\n",
        "drive.mount('/content/mydrive/')"
      ],
      "execution_count": 1,
      "outputs": [
        {
          "output_type": "stream",
          "text": [
            "Drive already mounted at /content/mydrive/; to attempt to forcibly remount, call drive.mount(\"/content/mydrive/\", force_remount=True).\n"
          ],
          "name": "stdout"
        }
      ]
    },
    {
      "cell_type": "code",
      "metadata": {
        "id": "UYyGOGPovUP8"
      },
      "source": [
        "import pandas as pd\n",
        "import matplotlib.pyplot as plt\n",
        "import numpy as np\n"
      ],
      "execution_count": 2,
      "outputs": []
    },
    {
      "cell_type": "code",
      "metadata": {
        "id": "gR2fPX-1vkv0"
      },
      "source": [
        "train_df=pd.read_csv('/content/mydrive/MyDrive/Colab Notebooks/Olimpiada/ML/Task_1/train.csv')\n",
        "X_test=pd.read_csv('/content/mydrive/MyDrive/Colab Notebooks/Olimpiada/ML/Task_1/test.csv')"
      ],
      "execution_count": 3,
      "outputs": []
    },
    {
      "cell_type": "code",
      "metadata": {
        "colab": {
          "base_uri": "https://localhost:8080/"
        },
        "id": "C3D4fIAj_OmG",
        "outputId": "f598e20f-6078-45fc-f394-83c86bc6b2a3"
      },
      "source": [
        "y_train=train_df.loc[:,['Onshore/Offshore']]\n",
        "y_train.value_counts()"
      ],
      "execution_count": 4,
      "outputs": [
        {
          "output_type": "execute_result",
          "data": {
            "text/plain": [
              "Onshore/Offshore\n",
              "ONSHORE             211\n",
              "OFFSHORE             93\n",
              "ONSHORE-OFFSHORE      5\n",
              "dtype: int64"
            ]
          },
          "metadata": {
            "tags": []
          },
          "execution_count": 4
        }
      ]
    },
    {
      "cell_type": "code",
      "metadata": {
        "id": "iJP50aPI_XWA"
      },
      "source": [
        "add_data=train_df.loc[train_df['Onshore/Offshore']=='ONSHORE-OFFSHORE',:].index"
      ],
      "execution_count": 5,
      "outputs": []
    },
    {
      "cell_type": "code",
      "metadata": {
        "id": "pzUix3GIAlW4"
      },
      "source": [
        "for i in range(19):\n",
        "  train_df=train_df.append(train_df.iloc[add_data,:],ignore_index=True)"
      ],
      "execution_count": 6,
      "outputs": []
    },
    {
      "cell_type": "code",
      "metadata": {
        "colab": {
          "base_uri": "https://localhost:8080/"
        },
        "id": "jC7YdY15LARx",
        "outputId": "e051a5c8-d3a5-4de9-f44a-5ef492e6df2e"
      },
      "source": [
        "y_train=train_df.loc[:,['Onshore/Offshore']]\n",
        "y_train.value_counts()"
      ],
      "execution_count": 7,
      "outputs": [
        {
          "output_type": "execute_result",
          "data": {
            "text/plain": [
              "Onshore/Offshore\n",
              "ONSHORE             211\n",
              "ONSHORE-OFFSHORE    100\n",
              "OFFSHORE             93\n",
              "dtype: int64"
            ]
          },
          "metadata": {
            "tags": []
          },
          "execution_count": 7
        }
      ]
    },
    {
      "cell_type": "code",
      "metadata": {
        "colab": {
          "base_uri": "https://localhost:8080/"
        },
        "id": "LzKabEVat8-B",
        "outputId": "3fe9b2b7-4631-45a6-916f-64a0d58e9537"
      },
      "source": [
        "y_train.shape"
      ],
      "execution_count": 8,
      "outputs": [
        {
          "output_type": "execute_result",
          "data": {
            "text/plain": [
              "(404, 1)"
            ]
          },
          "metadata": {
            "tags": []
          },
          "execution_count": 8
        }
      ]
    },
    {
      "cell_type": "code",
      "metadata": {
        "id": "JtoGVGCYyoOk",
        "colab": {
          "base_uri": "https://localhost:8080/"
        },
        "outputId": "438187e8-f786-4590-e662-1798b9491147"
      },
      "source": [
        "X_train=train_df.drop(['Onshore/Offshore'],axis=1)#(309, 11)\n",
        "X_train.shape"
      ],
      "execution_count": 9,
      "outputs": [
        {
          "output_type": "execute_result",
          "data": {
            "text/plain": [
              "(404, 11)"
            ]
          },
          "metadata": {
            "tags": []
          },
          "execution_count": 9
        }
      ]
    },
    {
      "cell_type": "code",
      "metadata": {
        "colab": {
          "base_uri": "https://localhost:8080/",
          "height": 326
        },
        "id": "kMjj1skW0N3x",
        "outputId": "4b82cd22-e185-4f2b-a720-f29536336638"
      },
      "source": [
        "X_train.head()"
      ],
      "execution_count": 10,
      "outputs": [
        {
          "output_type": "execute_result",
          "data": {
            "text/html": [
              "<div>\n",
              "<style scoped>\n",
              "    .dataframe tbody tr th:only-of-type {\n",
              "        vertical-align: middle;\n",
              "    }\n",
              "\n",
              "    .dataframe tbody tr th {\n",
              "        vertical-align: top;\n",
              "    }\n",
              "\n",
              "    .dataframe thead th {\n",
              "        text-align: right;\n",
              "    }\n",
              "</style>\n",
              "<table border=\"1\" class=\"dataframe\">\n",
              "  <thead>\n",
              "    <tr style=\"text-align: right;\">\n",
              "      <th></th>\n",
              "      <th>Tectonic regime</th>\n",
              "      <th>Hydrocarbon type</th>\n",
              "      <th>Reservoir status</th>\n",
              "      <th>Structural setting</th>\n",
              "      <th>Depth</th>\n",
              "      <th>Period</th>\n",
              "      <th>Lithology</th>\n",
              "      <th>Gross</th>\n",
              "      <th>Netpay</th>\n",
              "      <th>Porosity</th>\n",
              "      <th>Permeability</th>\n",
              "    </tr>\n",
              "  </thead>\n",
              "  <tbody>\n",
              "    <tr>\n",
              "      <th>0</th>\n",
              "      <td>STRIKE-SLIP/TRANSPRESSION/BASEMENT-I</td>\n",
              "      <td>OIL</td>\n",
              "      <td>DEVELOPING</td>\n",
              "      <td>INVERSION/WRENCH</td>\n",
              "      <td>3520</td>\n",
              "      <td>NEOGENE</td>\n",
              "      <td>SANDSTONE</td>\n",
              "      <td>2460.0</td>\n",
              "      <td>220.0</td>\n",
              "      <td>20.0</td>\n",
              "      <td>45.0</td>\n",
              "    </tr>\n",
              "    <tr>\n",
              "      <th>1</th>\n",
              "      <td>GRAVITY/EXTENSION/EVAPORITE</td>\n",
              "      <td>OIL</td>\n",
              "      <td>MATURE PRODUCTION</td>\n",
              "      <td>SALT/PASSIVE MARGIN</td>\n",
              "      <td>9967</td>\n",
              "      <td>CRETACEOUS</td>\n",
              "      <td>LIMESTONE</td>\n",
              "      <td>427.0</td>\n",
              "      <td>160.0</td>\n",
              "      <td>19.0</td>\n",
              "      <td>175.0</td>\n",
              "    </tr>\n",
              "    <tr>\n",
              "      <th>2</th>\n",
              "      <td>GRAVITY/EXTENSION/EVAPORITE</td>\n",
              "      <td>OIL</td>\n",
              "      <td>MATURE PRODUCTION</td>\n",
              "      <td>PASSIVE MARGIN</td>\n",
              "      <td>8700</td>\n",
              "      <td>CRETACEOUS</td>\n",
              "      <td>LIMESTONE</td>\n",
              "      <td>95.0</td>\n",
              "      <td>15.0</td>\n",
              "      <td>12.0</td>\n",
              "      <td>20.0</td>\n",
              "    </tr>\n",
              "    <tr>\n",
              "      <th>3</th>\n",
              "      <td>COMPRESSION</td>\n",
              "      <td>OIL</td>\n",
              "      <td>DECLINING PRODUCTION</td>\n",
              "      <td>THRUST</td>\n",
              "      <td>5084</td>\n",
              "      <td>CRETACEOUS</td>\n",
              "      <td>SANDSTONE</td>\n",
              "      <td>328.0</td>\n",
              "      <td>300.0</td>\n",
              "      <td>13.0</td>\n",
              "      <td>600.0</td>\n",
              "    </tr>\n",
              "    <tr>\n",
              "      <th>4</th>\n",
              "      <td>INVERSION/COMPRESSION/EXTENSION</td>\n",
              "      <td>OIL</td>\n",
              "      <td>DECLINING PRODUCTION</td>\n",
              "      <td>INVERSION/RIFT</td>\n",
              "      <td>1030</td>\n",
              "      <td>CRETACEOUS</td>\n",
              "      <td>SANDSTONE</td>\n",
              "      <td>260.0</td>\n",
              "      <td>33.0</td>\n",
              "      <td>24.0</td>\n",
              "      <td>182.0</td>\n",
              "    </tr>\n",
              "  </tbody>\n",
              "</table>\n",
              "</div>"
            ],
            "text/plain": [
              "                        Tectonic regime  ... Permeability\n",
              "0  STRIKE-SLIP/TRANSPRESSION/BASEMENT-I  ...         45.0\n",
              "1           GRAVITY/EXTENSION/EVAPORITE  ...        175.0\n",
              "2           GRAVITY/EXTENSION/EVAPORITE  ...         20.0\n",
              "3                           COMPRESSION  ...        600.0\n",
              "4       INVERSION/COMPRESSION/EXTENSION  ...        182.0\n",
              "\n",
              "[5 rows x 11 columns]"
            ]
          },
          "metadata": {
            "tags": []
          },
          "execution_count": 10
        }
      ]
    },
    {
      "cell_type": "code",
      "metadata": {
        "id": "Ibfhl6J-9S5g"
      },
      "source": [
        "data_types = pd.DataFrame(data={'dtypes':X_train.dtypes})\n",
        "cat_features=data_types.loc[(data_types['dtypes']=='object')].index"
      ],
      "execution_count": 11,
      "outputs": []
    },
    {
      "cell_type": "code",
      "metadata": {
        "id": "7ujLUJAUIsRK"
      },
      "source": [
        ""
      ],
      "execution_count": 11,
      "outputs": []
    },
    {
      "cell_type": "code",
      "metadata": {
        "id": "WbsGJQR68ZGD"
      },
      "source": [
        "# for f in cat_features:\n",
        "#   display(pd.DataFrame(data={'train':X_train[f].value_counts(),\n",
        "#                              'test' :X_test[f].value_counts()}).head(57))\n",
        "#   print('========================================')"
      ],
      "execution_count": 12,
      "outputs": []
    },
    {
      "cell_type": "code",
      "metadata": {
        "id": "rlE1xKBwJAK8"
      },
      "source": [
        "for df in [X_train,X_test]:\n",
        "  for f in cat_features:\n",
        "    df[f]=df[f].str.split('/')\n"
      ],
      "execution_count": 13,
      "outputs": []
    },
    {
      "cell_type": "code",
      "metadata": {
        "colab": {
          "base_uri": "https://localhost:8080/",
          "height": 306
        },
        "id": "gzHMpXL8JPZG",
        "outputId": "a10f2802-002f-4615-81d0-1d2b693d6db6"
      },
      "source": [
        "X_train[cat_features].head()"
      ],
      "execution_count": 14,
      "outputs": [
        {
          "output_type": "execute_result",
          "data": {
            "text/html": [
              "<div>\n",
              "<style scoped>\n",
              "    .dataframe tbody tr th:only-of-type {\n",
              "        vertical-align: middle;\n",
              "    }\n",
              "\n",
              "    .dataframe tbody tr th {\n",
              "        vertical-align: top;\n",
              "    }\n",
              "\n",
              "    .dataframe thead th {\n",
              "        text-align: right;\n",
              "    }\n",
              "</style>\n",
              "<table border=\"1\" class=\"dataframe\">\n",
              "  <thead>\n",
              "    <tr style=\"text-align: right;\">\n",
              "      <th></th>\n",
              "      <th>Tectonic regime</th>\n",
              "      <th>Hydrocarbon type</th>\n",
              "      <th>Reservoir status</th>\n",
              "      <th>Structural setting</th>\n",
              "      <th>Period</th>\n",
              "      <th>Lithology</th>\n",
              "    </tr>\n",
              "  </thead>\n",
              "  <tbody>\n",
              "    <tr>\n",
              "      <th>0</th>\n",
              "      <td>[STRIKE-SLIP, TRANSPRESSION, BASEMENT-I]</td>\n",
              "      <td>[OIL]</td>\n",
              "      <td>[DEVELOPING]</td>\n",
              "      <td>[INVERSION, WRENCH]</td>\n",
              "      <td>[NEOGENE]</td>\n",
              "      <td>[SANDSTONE]</td>\n",
              "    </tr>\n",
              "    <tr>\n",
              "      <th>1</th>\n",
              "      <td>[GRAVITY, EXTENSION, EVAPORITE]</td>\n",
              "      <td>[OIL]</td>\n",
              "      <td>[MATURE PRODUCTION]</td>\n",
              "      <td>[SALT, PASSIVE MARGIN]</td>\n",
              "      <td>[CRETACEOUS]</td>\n",
              "      <td>[LIMESTONE]</td>\n",
              "    </tr>\n",
              "    <tr>\n",
              "      <th>2</th>\n",
              "      <td>[GRAVITY, EXTENSION, EVAPORITE]</td>\n",
              "      <td>[OIL]</td>\n",
              "      <td>[MATURE PRODUCTION]</td>\n",
              "      <td>[PASSIVE MARGIN]</td>\n",
              "      <td>[CRETACEOUS]</td>\n",
              "      <td>[LIMESTONE]</td>\n",
              "    </tr>\n",
              "    <tr>\n",
              "      <th>3</th>\n",
              "      <td>[COMPRESSION]</td>\n",
              "      <td>[OIL]</td>\n",
              "      <td>[DECLINING PRODUCTION]</td>\n",
              "      <td>[THRUST]</td>\n",
              "      <td>[CRETACEOUS]</td>\n",
              "      <td>[SANDSTONE]</td>\n",
              "    </tr>\n",
              "    <tr>\n",
              "      <th>4</th>\n",
              "      <td>[INVERSION, COMPRESSION, EXTENSION]</td>\n",
              "      <td>[OIL]</td>\n",
              "      <td>[DECLINING PRODUCTION]</td>\n",
              "      <td>[INVERSION, RIFT]</td>\n",
              "      <td>[CRETACEOUS]</td>\n",
              "      <td>[SANDSTONE]</td>\n",
              "    </tr>\n",
              "  </tbody>\n",
              "</table>\n",
              "</div>"
            ],
            "text/plain": [
              "                            Tectonic regime  ...    Lithology\n",
              "0  [STRIKE-SLIP, TRANSPRESSION, BASEMENT-I]  ...  [SANDSTONE]\n",
              "1           [GRAVITY, EXTENSION, EVAPORITE]  ...  [LIMESTONE]\n",
              "2           [GRAVITY, EXTENSION, EVAPORITE]  ...  [LIMESTONE]\n",
              "3                             [COMPRESSION]  ...  [SANDSTONE]\n",
              "4       [INVERSION, COMPRESSION, EXTENSION]  ...  [SANDSTONE]\n",
              "\n",
              "[5 rows x 6 columns]"
            ]
          },
          "metadata": {
            "tags": []
          },
          "execution_count": 14
        }
      ]
    },
    {
      "cell_type": "code",
      "metadata": {
        "id": "Zfyk-TV7NbM-"
      },
      "source": [
        "#pd.get_dummies(X_train[cat_features[0]].str.split('/').apply(pd.Series).stack().sum(level=0))"
      ],
      "execution_count": 15,
      "outputs": []
    },
    {
      "cell_type": "code",
      "metadata": {
        "id": "dtpgIyxJPARf"
      },
      "source": [
        "from sklearn.preprocessing import MultiLabelBinarizer"
      ],
      "execution_count": 16,
      "outputs": []
    },
    {
      "cell_type": "code",
      "metadata": {
        "id": "fK7xzLM0M1fz"
      },
      "source": [
        "mlb = MultiLabelBinarizer()"
      ],
      "execution_count": 17,
      "outputs": []
    },
    {
      "cell_type": "code",
      "metadata": {
        "colab": {
          "base_uri": "https://localhost:8080/",
          "height": 394
        },
        "id": "jj0X-WB2W3O2",
        "outputId": "3252cae3-042f-4757-9373-680cd6ae92e8"
      },
      "source": [
        "X_train.head()"
      ],
      "execution_count": 18,
      "outputs": [
        {
          "output_type": "execute_result",
          "data": {
            "text/html": [
              "<div>\n",
              "<style scoped>\n",
              "    .dataframe tbody tr th:only-of-type {\n",
              "        vertical-align: middle;\n",
              "    }\n",
              "\n",
              "    .dataframe tbody tr th {\n",
              "        vertical-align: top;\n",
              "    }\n",
              "\n",
              "    .dataframe thead th {\n",
              "        text-align: right;\n",
              "    }\n",
              "</style>\n",
              "<table border=\"1\" class=\"dataframe\">\n",
              "  <thead>\n",
              "    <tr style=\"text-align: right;\">\n",
              "      <th></th>\n",
              "      <th>Tectonic regime</th>\n",
              "      <th>Hydrocarbon type</th>\n",
              "      <th>Reservoir status</th>\n",
              "      <th>Structural setting</th>\n",
              "      <th>Depth</th>\n",
              "      <th>Period</th>\n",
              "      <th>Lithology</th>\n",
              "      <th>Gross</th>\n",
              "      <th>Netpay</th>\n",
              "      <th>Porosity</th>\n",
              "      <th>Permeability</th>\n",
              "    </tr>\n",
              "  </thead>\n",
              "  <tbody>\n",
              "    <tr>\n",
              "      <th>0</th>\n",
              "      <td>[STRIKE-SLIP, TRANSPRESSION, BASEMENT-I]</td>\n",
              "      <td>[OIL]</td>\n",
              "      <td>[DEVELOPING]</td>\n",
              "      <td>[INVERSION, WRENCH]</td>\n",
              "      <td>3520</td>\n",
              "      <td>[NEOGENE]</td>\n",
              "      <td>[SANDSTONE]</td>\n",
              "      <td>2460.0</td>\n",
              "      <td>220.0</td>\n",
              "      <td>20.0</td>\n",
              "      <td>45.0</td>\n",
              "    </tr>\n",
              "    <tr>\n",
              "      <th>1</th>\n",
              "      <td>[GRAVITY, EXTENSION, EVAPORITE]</td>\n",
              "      <td>[OIL]</td>\n",
              "      <td>[MATURE PRODUCTION]</td>\n",
              "      <td>[SALT, PASSIVE MARGIN]</td>\n",
              "      <td>9967</td>\n",
              "      <td>[CRETACEOUS]</td>\n",
              "      <td>[LIMESTONE]</td>\n",
              "      <td>427.0</td>\n",
              "      <td>160.0</td>\n",
              "      <td>19.0</td>\n",
              "      <td>175.0</td>\n",
              "    </tr>\n",
              "    <tr>\n",
              "      <th>2</th>\n",
              "      <td>[GRAVITY, EXTENSION, EVAPORITE]</td>\n",
              "      <td>[OIL]</td>\n",
              "      <td>[MATURE PRODUCTION]</td>\n",
              "      <td>[PASSIVE MARGIN]</td>\n",
              "      <td>8700</td>\n",
              "      <td>[CRETACEOUS]</td>\n",
              "      <td>[LIMESTONE]</td>\n",
              "      <td>95.0</td>\n",
              "      <td>15.0</td>\n",
              "      <td>12.0</td>\n",
              "      <td>20.0</td>\n",
              "    </tr>\n",
              "    <tr>\n",
              "      <th>3</th>\n",
              "      <td>[COMPRESSION]</td>\n",
              "      <td>[OIL]</td>\n",
              "      <td>[DECLINING PRODUCTION]</td>\n",
              "      <td>[THRUST]</td>\n",
              "      <td>5084</td>\n",
              "      <td>[CRETACEOUS]</td>\n",
              "      <td>[SANDSTONE]</td>\n",
              "      <td>328.0</td>\n",
              "      <td>300.0</td>\n",
              "      <td>13.0</td>\n",
              "      <td>600.0</td>\n",
              "    </tr>\n",
              "    <tr>\n",
              "      <th>4</th>\n",
              "      <td>[INVERSION, COMPRESSION, EXTENSION]</td>\n",
              "      <td>[OIL]</td>\n",
              "      <td>[DECLINING PRODUCTION]</td>\n",
              "      <td>[INVERSION, RIFT]</td>\n",
              "      <td>1030</td>\n",
              "      <td>[CRETACEOUS]</td>\n",
              "      <td>[SANDSTONE]</td>\n",
              "      <td>260.0</td>\n",
              "      <td>33.0</td>\n",
              "      <td>24.0</td>\n",
              "      <td>182.0</td>\n",
              "    </tr>\n",
              "  </tbody>\n",
              "</table>\n",
              "</div>"
            ],
            "text/plain": [
              "                            Tectonic regime  ... Permeability\n",
              "0  [STRIKE-SLIP, TRANSPRESSION, BASEMENT-I]  ...         45.0\n",
              "1           [GRAVITY, EXTENSION, EVAPORITE]  ...        175.0\n",
              "2           [GRAVITY, EXTENSION, EVAPORITE]  ...         20.0\n",
              "3                             [COMPRESSION]  ...        600.0\n",
              "4       [INVERSION, COMPRESSION, EXTENSION]  ...        182.0\n",
              "\n",
              "[5 rows x 11 columns]"
            ]
          },
          "metadata": {
            "tags": []
          },
          "execution_count": 18
        }
      ]
    },
    {
      "cell_type": "code",
      "metadata": {
        "id": "B9TWelbVWsVv"
      },
      "source": [
        "X_train_b=X_train.drop(cat_features,axis=1)\n",
        "X_test_b=X_test.drop(cat_features,axis=1)"
      ],
      "execution_count": 19,
      "outputs": []
    },
    {
      "cell_type": "code",
      "metadata": {
        "colab": {
          "base_uri": "https://localhost:8080/",
          "height": 204
        },
        "id": "F9BbA8Mql6QO",
        "outputId": "7ff3cd4b-dc98-450c-ccd9-5e4b492ccac8"
      },
      "source": [
        "X_train_b.head()"
      ],
      "execution_count": 20,
      "outputs": [
        {
          "output_type": "execute_result",
          "data": {
            "text/html": [
              "<div>\n",
              "<style scoped>\n",
              "    .dataframe tbody tr th:only-of-type {\n",
              "        vertical-align: middle;\n",
              "    }\n",
              "\n",
              "    .dataframe tbody tr th {\n",
              "        vertical-align: top;\n",
              "    }\n",
              "\n",
              "    .dataframe thead th {\n",
              "        text-align: right;\n",
              "    }\n",
              "</style>\n",
              "<table border=\"1\" class=\"dataframe\">\n",
              "  <thead>\n",
              "    <tr style=\"text-align: right;\">\n",
              "      <th></th>\n",
              "      <th>Depth</th>\n",
              "      <th>Gross</th>\n",
              "      <th>Netpay</th>\n",
              "      <th>Porosity</th>\n",
              "      <th>Permeability</th>\n",
              "    </tr>\n",
              "  </thead>\n",
              "  <tbody>\n",
              "    <tr>\n",
              "      <th>0</th>\n",
              "      <td>3520</td>\n",
              "      <td>2460.0</td>\n",
              "      <td>220.0</td>\n",
              "      <td>20.0</td>\n",
              "      <td>45.0</td>\n",
              "    </tr>\n",
              "    <tr>\n",
              "      <th>1</th>\n",
              "      <td>9967</td>\n",
              "      <td>427.0</td>\n",
              "      <td>160.0</td>\n",
              "      <td>19.0</td>\n",
              "      <td>175.0</td>\n",
              "    </tr>\n",
              "    <tr>\n",
              "      <th>2</th>\n",
              "      <td>8700</td>\n",
              "      <td>95.0</td>\n",
              "      <td>15.0</td>\n",
              "      <td>12.0</td>\n",
              "      <td>20.0</td>\n",
              "    </tr>\n",
              "    <tr>\n",
              "      <th>3</th>\n",
              "      <td>5084</td>\n",
              "      <td>328.0</td>\n",
              "      <td>300.0</td>\n",
              "      <td>13.0</td>\n",
              "      <td>600.0</td>\n",
              "    </tr>\n",
              "    <tr>\n",
              "      <th>4</th>\n",
              "      <td>1030</td>\n",
              "      <td>260.0</td>\n",
              "      <td>33.0</td>\n",
              "      <td>24.0</td>\n",
              "      <td>182.0</td>\n",
              "    </tr>\n",
              "  </tbody>\n",
              "</table>\n",
              "</div>"
            ],
            "text/plain": [
              "   Depth   Gross  Netpay  Porosity  Permeability\n",
              "0   3520  2460.0   220.0      20.0          45.0\n",
              "1   9967   427.0   160.0      19.0         175.0\n",
              "2   8700    95.0    15.0      12.0          20.0\n",
              "3   5084   328.0   300.0      13.0         600.0\n",
              "4   1030   260.0    33.0      24.0         182.0"
            ]
          },
          "metadata": {
            "tags": []
          },
          "execution_count": 20
        }
      ]
    },
    {
      "cell_type": "code",
      "metadata": {
        "id": "UzIhACAKrS2-"
      },
      "source": [
        "num_features=X_train_b.columns\n"
      ],
      "execution_count": 21,
      "outputs": []
    },
    {
      "cell_type": "code",
      "metadata": {
        "id": "KNUpgyZ2l0Hl"
      },
      "source": [
        "from sklearn.preprocessing import StandardScaler\n",
        "scaler=StandardScaler()"
      ],
      "execution_count": 22,
      "outputs": []
    },
    {
      "cell_type": "code",
      "metadata": {
        "id": "vI06ok58q-8O"
      },
      "source": [
        "X_train_b[num_features]=scaler.fit_transform(X_train_b)\n",
        "X_test_b[num_features]=scaler.fit_transform(X_test_b)"
      ],
      "execution_count": 23,
      "outputs": []
    },
    {
      "cell_type": "code",
      "metadata": {
        "colab": {
          "base_uri": "https://localhost:8080/",
          "height": 204
        },
        "id": "PFFPB90orI5g",
        "outputId": "46137b06-0d44-4b96-f93f-f20c96095042"
      },
      "source": [
        "X_train_b.head()"
      ],
      "execution_count": 24,
      "outputs": [
        {
          "output_type": "execute_result",
          "data": {
            "text/html": [
              "<div>\n",
              "<style scoped>\n",
              "    .dataframe tbody tr th:only-of-type {\n",
              "        vertical-align: middle;\n",
              "    }\n",
              "\n",
              "    .dataframe tbody tr th {\n",
              "        vertical-align: top;\n",
              "    }\n",
              "\n",
              "    .dataframe thead th {\n",
              "        text-align: right;\n",
              "    }\n",
              "</style>\n",
              "<table border=\"1\" class=\"dataframe\">\n",
              "  <thead>\n",
              "    <tr style=\"text-align: right;\">\n",
              "      <th></th>\n",
              "      <th>Depth</th>\n",
              "      <th>Gross</th>\n",
              "      <th>Netpay</th>\n",
              "      <th>Porosity</th>\n",
              "      <th>Permeability</th>\n",
              "    </tr>\n",
              "  </thead>\n",
              "  <tbody>\n",
              "    <tr>\n",
              "      <th>0</th>\n",
              "      <td>-0.689829</td>\n",
              "      <td>1.433179</td>\n",
              "      <td>0.067041</td>\n",
              "      <td>0.041787</td>\n",
              "      <td>-0.516444</td>\n",
              "    </tr>\n",
              "    <tr>\n",
              "      <th>1</th>\n",
              "      <td>1.146382</td>\n",
              "      <td>-0.305270</td>\n",
              "      <td>-0.170207</td>\n",
              "      <td>-0.074064</td>\n",
              "      <td>-0.381562</td>\n",
              "    </tr>\n",
              "    <tr>\n",
              "      <th>2</th>\n",
              "      <td>0.785520</td>\n",
              "      <td>-0.589168</td>\n",
              "      <td>-0.743555</td>\n",
              "      <td>-0.885022</td>\n",
              "      <td>-0.542382</td>\n",
              "    </tr>\n",
              "    <tr>\n",
              "      <th>3</th>\n",
              "      <td>-0.244376</td>\n",
              "      <td>-0.389926</td>\n",
              "      <td>0.383371</td>\n",
              "      <td>-0.769171</td>\n",
              "      <td>0.059397</td>\n",
              "    </tr>\n",
              "    <tr>\n",
              "      <th>4</th>\n",
              "      <td>-1.399021</td>\n",
              "      <td>-0.448074</td>\n",
              "      <td>-0.672380</td>\n",
              "      <td>0.505191</td>\n",
              "      <td>-0.374299</td>\n",
              "    </tr>\n",
              "  </tbody>\n",
              "</table>\n",
              "</div>"
            ],
            "text/plain": [
              "      Depth     Gross    Netpay  Porosity  Permeability\n",
              "0 -0.689829  1.433179  0.067041  0.041787     -0.516444\n",
              "1  1.146382 -0.305270 -0.170207 -0.074064     -0.381562\n",
              "2  0.785520 -0.589168 -0.743555 -0.885022     -0.542382\n",
              "3 -0.244376 -0.389926  0.383371 -0.769171      0.059397\n",
              "4 -1.399021 -0.448074 -0.672380  0.505191     -0.374299"
            ]
          },
          "metadata": {
            "tags": []
          },
          "execution_count": 24
        }
      ]
    },
    {
      "cell_type": "code",
      "metadata": {
        "colab": {
          "base_uri": "https://localhost:8080/"
        },
        "id": "JMN5XOAKgeKD",
        "outputId": "eb246b45-a8e7-4624-cc24-b6d443c46e93"
      },
      "source": [
        "for f in cat_features:\n",
        "  mlb.fit(X_train[f])\n",
        "  print(mlb.classes_)\n",
        "  mlb.fit(X_test[f])\n",
        "  print(mlb.classes_)\n",
        "  print('=================================================')"
      ],
      "execution_count": 25,
      "outputs": [
        {
          "output_type": "stream",
          "text": [
            "['BASEMENT-I' 'COMPRESSION' 'DIAPIR' 'EROSION' 'EVAPORITE' 'EXTENSION'\n",
            " 'GRAVITY' 'INVERSION' 'LINKED' 'REACTIVATION' 'SHALE' 'STRIKE-SLIP'\n",
            " 'SYNSEDIMENTATION' 'TRANSPRESSION' 'TRANSTENSION' 'UPLIFT']\n",
            "['BASEMENT-I' 'COMPRESSION' 'DIAPIR' 'EROSION' 'EVAPORITE' 'EXTENSION'\n",
            " 'GRAVITY' 'INVERSION' 'LINKED' 'SHALE' 'STRIKE-SLIP' 'SYNSEDIMENTATION'\n",
            " 'TRANSPRESSION' 'TRANSTENSION']\n",
            "=================================================\n",
            "['CARBON DIOXIDE' 'GAS' 'GAS-CONDENSATE' 'METHANE HYDRATE' 'OIL']\n",
            "['BITUMEN' 'CARBON DIOXIDE' 'GAS' 'GAS-CONDENSATE' 'OIL']\n",
            "=================================================\n",
            "['ABANDONED' 'CONTINUING DEVELOPMENT' 'DECLINING PRODUCTION' 'DEPLETED'\n",
            " 'DEVELOPING' 'MATURE PRODUCTION' 'NEARLY DEPLETED' 'PLATEAU PRODUCTION'\n",
            " 'REJUVENATING' 'SECOND PLATEAU PRODUTION' 'UNDEVELOPED' 'UNKNOWN']\n",
            "['ABANDONED' 'CONTINUING DEVELOPMENT' 'DECLINING PRODUCTION' 'DEVELOPING'\n",
            " 'MATURE PRODUCTION' 'NEARLY DEPLETED' 'PLATEAU PRODUCTION' 'REJUVENATING'\n",
            " 'SECOND PLATEAU PRODUTION' 'TEMPORARILY SHUT-IN' 'UNDEVELOPED' 'UNKNOWN']\n",
            "=================================================\n",
            "['' 'BACKARC' 'DELTA' 'FOREARC' 'FORELAND' 'INTRACRATONIC' 'INVERSION'\n",
            " 'PASSIVE MARGIN' 'RIFT' 'SALT' 'SUB-SALT' 'SUB-THRUST' 'THRUST' 'WRENCH']\n",
            "['BACKARC' 'DELTA' 'FOREARC' 'FORELAND' 'INTRACRATONIC' 'INVERSION'\n",
            " 'PASSIVE MARGIN' 'RIFT' 'SALT' 'SUB-SALT' 'SUB-THRUST' 'THRUST' 'WRENCH']\n",
            "=================================================\n",
            "['ARCHEAN' 'CAMBRIAN' 'CAMBRIAN-ORDOVICIAN' 'CARBONIFEROUS'\n",
            " 'CARBONIFEROUS-CRETACEOUS' 'CARBONIFEROUS-PERMIAN' 'CRETACEOUS'\n",
            " 'CRETACEOUS-PALEOGENE' 'DEVONIAN' 'JURASSIC' 'JURASSIC-CRETACEOUS'\n",
            " 'MESOZOIC' 'NEOGENE' 'ORDOVICIAN' 'PALEOGENE' 'PALEOGENE-NEOGENE'\n",
            " 'PALEOZOIC' 'PERMIAN' 'PROTEROZOIC' 'PROTEROZOIC-CAMBRIAN' 'TRIASSIC'\n",
            " 'TRIASSIC-JURASSIC']\n",
            "['CAMBRIAN-ORDOVICIAN' 'CARBONIFEROUS' 'CARBONIFEROUS-PERMIAN'\n",
            " 'CRETACEOUS' 'CRETACEOUS-PALEOGENE' 'DEVONIAN' 'DEVONIAN-CARBONIFEROUS'\n",
            " 'DEVONIAN-PERMIAN' 'JURASSIC' 'NEOGENE' 'ORDOVICIAN' 'PALEOGENE'\n",
            " 'PALEOGENE-NEOGENE' 'PALEOZOIC-CRETACEOUS' 'PERMIAN' 'PERMIAN-TRIASSIC'\n",
            " 'PROTEROZOIC' 'SILURIAN' 'TRIASSIC' 'TRIASSIC-JURASSIC']\n",
            "=================================================\n",
            "['BASEMENT' 'CHALK' 'CHALKY LIMESTONE' 'CHERT' 'CONGLOMERATE' 'DIATOMITE'\n",
            " 'DOLOMITE' 'DOLOMITIC LIMESTONE' 'LIMESTONE' 'LOW-RESISTIVITY SANDSTONE'\n",
            " 'SANDSTONE' 'SHALE' 'SHALY SANDSTONE' 'SILTSTONE'\n",
            " 'THINLY-BEDDED SANDSTONE' 'VOLCANICS']\n",
            "['CHALK' 'CHALKY LIMESTONE' 'DOLOMITE' 'DOLOMITIC LIMESTONE'\n",
            " 'GLAUCONITIC SANDSTONE' 'LIMESTONE' 'LOW-RESISTIVITY SANDSTONE'\n",
            " 'SANDSTONE' 'SHALY SANDSTONE' 'SILTSTONE' 'THINLY-BEDDED SANDSTONE']\n",
            "=================================================\n"
          ],
          "name": "stdout"
        }
      ]
    },
    {
      "cell_type": "code",
      "metadata": {
        "id": "EhTytVliw1Kq"
      },
      "source": [
        "#пока повтор не вклюаею так как может получиться что 1+1=2\n",
        "for f in cat_features:\n",
        "  tmp=pd.DataFrame(mlb.fit_transform(X_train[f]), columns=mlb.classes_)  \n",
        "  for cls in mlb.classes_:\n",
        "    if cls not in X_train_b.keys():\n",
        "      X_train_b=pd.concat([X_train_b,tmp[[cls]]],axis=1)\n",
        "\n",
        "  tmp=pd.DataFrame(mlb.fit_transform(X_test[f]), columns=mlb.classes_)  \n",
        "  for cls in mlb.classes_:\n",
        "    if cls not in X_test_b.keys():\n",
        "      X_test_b=pd.concat([X_test_b,tmp[[cls]]],axis=1)\n",
        "  "
      ],
      "execution_count": 26,
      "outputs": []
    },
    {
      "cell_type": "code",
      "metadata": {
        "id": "A20vfzqeTTID"
      },
      "source": [
        "# for f in cat_features:\n",
        "#   tmp=pd.DataFrame(mlb.fit_transform(X_train[f]), columns=mlb.classes_)  \n",
        "#   X_train_b=pd.concat([X_train_b,tmp],axis=1)\n",
        "#   tmp=pd.DataFrame(mlb.fit_transform(X_test[f]), columns=mlb.classes_) \n",
        "#   X_test_b=pd.concat([X_test_b,tmp],axis=1)"
      ],
      "execution_count": 27,
      "outputs": []
    },
    {
      "cell_type": "code",
      "metadata": {
        "colab": {
          "base_uri": "https://localhost:8080/"
        },
        "id": "x0zjFCubyJ5v",
        "outputId": "ae4b00e1-ab09-49c9-e0a2-0f9364448def"
      },
      "source": [
        "X_train_b.shape#90 80"
      ],
      "execution_count": 28,
      "outputs": [
        {
          "output_type": "execute_result",
          "data": {
            "text/plain": [
              "(404, 88)"
            ]
          },
          "metadata": {
            "tags": []
          },
          "execution_count": 28
        }
      ]
    },
    {
      "cell_type": "code",
      "metadata": {
        "colab": {
          "base_uri": "https://localhost:8080/"
        },
        "id": "Okw17mJNyKb4",
        "outputId": "27b9aa38-8d08-4ca9-dfa3-68ce16f2befb"
      },
      "source": [
        "X_test_b.shape"
      ],
      "execution_count": 29,
      "outputs": [
        {
          "output_type": "execute_result",
          "data": {
            "text/plain": [
              "(133, 79)"
            ]
          },
          "metadata": {
            "tags": []
          },
          "execution_count": 29
        }
      ]
    },
    {
      "cell_type": "code",
      "metadata": {
        "colab": {
          "base_uri": "https://localhost:8080/"
        },
        "id": "g8NeJN_9dQrq",
        "outputId": "2272c3f5-f56b-42c1-9e8c-be8b28b84b7f"
      },
      "source": [
        "drop_list=[]\n",
        "drop_list=drop_list+list(list(set(list(X_train_b.keys()))-set(list(X_test_b.keys()))))\n",
        "drop_list=drop_list+list(set(list(X_test_b.keys()))-set(list(X_train_b.keys())))\n",
        "drop_list"
      ],
      "execution_count": 30,
      "outputs": [
        {
          "output_type": "execute_result",
          "data": {
            "text/plain": [
              "['',\n",
              " 'CARBONIFEROUS-CRETACEOUS',\n",
              " 'VOLCANICS',\n",
              " 'REACTIVATION',\n",
              " 'CHERT',\n",
              " 'PROTEROZOIC-CAMBRIAN',\n",
              " 'DIATOMITE',\n",
              " 'BASEMENT',\n",
              " 'METHANE HYDRATE',\n",
              " 'ARCHEAN',\n",
              " 'JURASSIC-CRETACEOUS',\n",
              " 'DEPLETED',\n",
              " 'PALEOZOIC',\n",
              " 'UPLIFT',\n",
              " 'MESOZOIC',\n",
              " 'CAMBRIAN',\n",
              " 'CONGLOMERATE',\n",
              " 'BITUMEN',\n",
              " 'GLAUCONITIC SANDSTONE',\n",
              " 'PALEOZOIC-CRETACEOUS',\n",
              " 'SILURIAN',\n",
              " 'TEMPORARILY SHUT-IN',\n",
              " 'DEVONIAN-CARBONIFEROUS',\n",
              " 'DEVONIAN-PERMIAN',\n",
              " 'PERMIAN-TRIASSIC']"
            ]
          },
          "metadata": {
            "tags": []
          },
          "execution_count": 30
        }
      ]
    },
    {
      "cell_type": "code",
      "metadata": {
        "id": "RM2YUOwSdq56"
      },
      "source": [
        "for f in drop_list:\n",
        "  if f in list(X_test_b.keys()):\n",
        "    X_test_b.drop([f],axis=1,inplace=True)\n",
        "  if f in list(X_train_b.keys()):\n",
        "    X_train_b.drop([f],axis=1,inplace=True)"
      ],
      "execution_count": 31,
      "outputs": []
    },
    {
      "cell_type": "code",
      "metadata": {
        "colab": {
          "base_uri": "https://localhost:8080/"
        },
        "id": "DjrD8MNteuiy",
        "outputId": "e7628c71-c288-46d8-9d8c-071992c948cd"
      },
      "source": [
        "X_test_b.shape"
      ],
      "execution_count": 32,
      "outputs": [
        {
          "output_type": "execute_result",
          "data": {
            "text/plain": [
              "(133, 71)"
            ]
          },
          "metadata": {
            "tags": []
          },
          "execution_count": 32
        }
      ]
    },
    {
      "cell_type": "code",
      "metadata": {
        "colab": {
          "base_uri": "https://localhost:8080/"
        },
        "id": "RW3HXaxiils1",
        "outputId": "ab3e3f77-36a4-4ea6-db28-25ab3829217c"
      },
      "source": [
        "X_train_b.shape"
      ],
      "execution_count": 33,
      "outputs": [
        {
          "output_type": "execute_result",
          "data": {
            "text/plain": [
              "(404, 71)"
            ]
          },
          "metadata": {
            "tags": []
          },
          "execution_count": 33
        }
      ]
    },
    {
      "cell_type": "code",
      "metadata": {
        "colab": {
          "base_uri": "https://localhost:8080/",
          "height": 204
        },
        "id": "H_VKxz0R0HFs",
        "outputId": "20df6d29-d184-49c8-8b4d-edb66c3643c7"
      },
      "source": [
        "y_train.head()"
      ],
      "execution_count": 34,
      "outputs": [
        {
          "output_type": "execute_result",
          "data": {
            "text/html": [
              "<div>\n",
              "<style scoped>\n",
              "    .dataframe tbody tr th:only-of-type {\n",
              "        vertical-align: middle;\n",
              "    }\n",
              "\n",
              "    .dataframe tbody tr th {\n",
              "        vertical-align: top;\n",
              "    }\n",
              "\n",
              "    .dataframe thead th {\n",
              "        text-align: right;\n",
              "    }\n",
              "</style>\n",
              "<table border=\"1\" class=\"dataframe\">\n",
              "  <thead>\n",
              "    <tr style=\"text-align: right;\">\n",
              "      <th></th>\n",
              "      <th>Onshore/Offshore</th>\n",
              "    </tr>\n",
              "  </thead>\n",
              "  <tbody>\n",
              "    <tr>\n",
              "      <th>0</th>\n",
              "      <td>OFFSHORE</td>\n",
              "    </tr>\n",
              "    <tr>\n",
              "      <th>1</th>\n",
              "      <td>OFFSHORE</td>\n",
              "    </tr>\n",
              "    <tr>\n",
              "      <th>2</th>\n",
              "      <td>ONSHORE</td>\n",
              "    </tr>\n",
              "    <tr>\n",
              "      <th>3</th>\n",
              "      <td>ONSHORE</td>\n",
              "    </tr>\n",
              "    <tr>\n",
              "      <th>4</th>\n",
              "      <td>ONSHORE</td>\n",
              "    </tr>\n",
              "  </tbody>\n",
              "</table>\n",
              "</div>"
            ],
            "text/plain": [
              "  Onshore/Offshore\n",
              "0         OFFSHORE\n",
              "1         OFFSHORE\n",
              "2          ONSHORE\n",
              "3          ONSHORE\n",
              "4          ONSHORE"
            ]
          },
          "metadata": {
            "tags": []
          },
          "execution_count": 34
        }
      ]
    },
    {
      "cell_type": "code",
      "metadata": {
        "colab": {
          "base_uri": "https://localhost:8080/"
        },
        "id": "2Xh_lOs3vduN",
        "outputId": "39f16cc0-6cb9-4861-ba47-2b11a3c21e90"
      },
      "source": [
        "y_train['Onshore/Offshore'].unique()"
      ],
      "execution_count": 35,
      "outputs": [
        {
          "output_type": "execute_result",
          "data": {
            "text/plain": [
              "array(['OFFSHORE', 'ONSHORE', 'ONSHORE-OFFSHORE'], dtype=object)"
            ]
          },
          "metadata": {
            "tags": []
          },
          "execution_count": 35
        }
      ]
    },
    {
      "cell_type": "code",
      "metadata": {
        "id": "lvUNfIjoy-3P"
      },
      "source": [
        "from sklearn.preprocessing import OrdinalEncoder"
      ],
      "execution_count": 36,
      "outputs": []
    },
    {
      "cell_type": "code",
      "metadata": {
        "id": "Mso25l3bzuvf"
      },
      "source": [
        "enc = OrdinalEncoder()"
      ],
      "execution_count": 37,
      "outputs": []
    },
    {
      "cell_type": "code",
      "metadata": {
        "colab": {
          "base_uri": "https://localhost:8080/"
        },
        "id": "V61lhzlNzvcu",
        "outputId": "e8cbecea-1b1a-4454-c750-3b5f9313da4c"
      },
      "source": [
        "enc.fit(y_train[['Onshore/Offshore']])"
      ],
      "execution_count": 38,
      "outputs": [
        {
          "output_type": "execute_result",
          "data": {
            "text/plain": [
              "OrdinalEncoder(categories='auto', dtype=<class 'numpy.float64'>)"
            ]
          },
          "metadata": {
            "tags": []
          },
          "execution_count": 38
        }
      ]
    },
    {
      "cell_type": "code",
      "metadata": {
        "id": "1mXIpEOTz8Ty"
      },
      "source": [
        "y_train['Onshore/Offshore']=enc.transform(y_train[['Onshore/Offshore']])"
      ],
      "execution_count": 39,
      "outputs": []
    },
    {
      "cell_type": "code",
      "metadata": {
        "colab": {
          "base_uri": "https://localhost:8080/"
        },
        "id": "W--JuDJH0Z1_",
        "outputId": "4dc75c7b-93c1-4153-cc5b-db14d3c1650a"
      },
      "source": [
        "y_train['Onshore/Offshore'].value_counts()"
      ],
      "execution_count": 40,
      "outputs": [
        {
          "output_type": "execute_result",
          "data": {
            "text/plain": [
              "1.0    211\n",
              "2.0    100\n",
              "0.0     93\n",
              "Name: Onshore/Offshore, dtype: int64"
            ]
          },
          "metadata": {
            "tags": []
          },
          "execution_count": 40
        }
      ]
    },
    {
      "cell_type": "code",
      "metadata": {
        "colab": {
          "base_uri": "https://localhost:8080/"
        },
        "id": "mM-eqUGItfSd",
        "outputId": "8adb6d5e-de29-47ac-ab56-aed179aabca7"
      },
      "source": [
        "y_train.shape"
      ],
      "execution_count": 41,
      "outputs": [
        {
          "output_type": "execute_result",
          "data": {
            "text/plain": [
              "(404, 1)"
            ]
          },
          "metadata": {
            "tags": []
          },
          "execution_count": 41
        }
      ]
    },
    {
      "cell_type": "code",
      "metadata": {
        "colab": {
          "base_uri": "https://localhost:8080/",
          "height": 204
        },
        "id": "FPHqAjIb0J9c",
        "outputId": "6bc0cc23-b906-43aa-8310-ea8fd6fb1f48"
      },
      "source": [
        "pd.DataFrame(enc.inverse_transform(y_train[['Onshore/Offshore']])).head()"
      ],
      "execution_count": 42,
      "outputs": [
        {
          "output_type": "execute_result",
          "data": {
            "text/html": [
              "<div>\n",
              "<style scoped>\n",
              "    .dataframe tbody tr th:only-of-type {\n",
              "        vertical-align: middle;\n",
              "    }\n",
              "\n",
              "    .dataframe tbody tr th {\n",
              "        vertical-align: top;\n",
              "    }\n",
              "\n",
              "    .dataframe thead th {\n",
              "        text-align: right;\n",
              "    }\n",
              "</style>\n",
              "<table border=\"1\" class=\"dataframe\">\n",
              "  <thead>\n",
              "    <tr style=\"text-align: right;\">\n",
              "      <th></th>\n",
              "      <th>0</th>\n",
              "    </tr>\n",
              "  </thead>\n",
              "  <tbody>\n",
              "    <tr>\n",
              "      <th>0</th>\n",
              "      <td>OFFSHORE</td>\n",
              "    </tr>\n",
              "    <tr>\n",
              "      <th>1</th>\n",
              "      <td>OFFSHORE</td>\n",
              "    </tr>\n",
              "    <tr>\n",
              "      <th>2</th>\n",
              "      <td>ONSHORE</td>\n",
              "    </tr>\n",
              "    <tr>\n",
              "      <th>3</th>\n",
              "      <td>ONSHORE</td>\n",
              "    </tr>\n",
              "    <tr>\n",
              "      <th>4</th>\n",
              "      <td>ONSHORE</td>\n",
              "    </tr>\n",
              "  </tbody>\n",
              "</table>\n",
              "</div>"
            ],
            "text/plain": [
              "          0\n",
              "0  OFFSHORE\n",
              "1  OFFSHORE\n",
              "2   ONSHORE\n",
              "3   ONSHORE\n",
              "4   ONSHORE"
            ]
          },
          "metadata": {
            "tags": []
          },
          "execution_count": 42
        }
      ]
    },
    {
      "cell_type": "code",
      "metadata": {
        "id": "IWJlItJcuY5s"
      },
      "source": [
        "import torch\n",
        "from torch import nn\n",
        "from torch import functional as F\n",
        "from torch.utils.data import Dataset, DataLoader"
      ],
      "execution_count": 43,
      "outputs": []
    },
    {
      "cell_type": "code",
      "metadata": {
        "id": "YTtL2sNbiV-D"
      },
      "source": [
        "def batch_generator(X, y, batch_size):\n",
        "    np.random.seed(42)\n",
        "    perm = np.random.permutation(len(X))\n",
        "    data_size = len(X)\n",
        "    X = X[perm]\n",
        "    y = y[perm]\n",
        "    \n",
        "    num_batches_per_epoch = int((data_size-1)/batch_size) + 1\n",
        "    for batch_num in range(num_batches_per_epoch):\n",
        "        start_index = batch_num * batch_size\n",
        "        end_index = min((batch_num + 1) * batch_size, data_size)\n",
        "        X_batch = X[start_index:end_index]\n",
        "        y_batch = y[start_index:end_index]\n",
        "        yield (X_batch, y_batch)"
      ],
      "execution_count": 44,
      "outputs": []
    },
    {
      "cell_type": "code",
      "metadata": {
        "id": "glUvMHfXiWzy"
      },
      "source": [
        "X = torch.FloatTensor(X_train_b.values)\n",
        "y = torch.LongTensor(y_train.values.reshape(-1))\n",
        "X_test_tensor=torch.FloatTensor(X_test_b.values)\n"
      ],
      "execution_count": 45,
      "outputs": []
    },
    {
      "cell_type": "code",
      "metadata": {
        "id": "p_CcJVpLufCg"
      },
      "source": [
        "inp=X_train_b.shape[1]"
      ],
      "execution_count": 46,
      "outputs": []
    },
    {
      "cell_type": "code",
      "metadata": {
        "id": "ABHzCPTEuUA8"
      },
      "source": [
        "k=2"
      ],
      "execution_count": 47,
      "outputs": []
    },
    {
      "cell_type": "code",
      "metadata": {
        "id": "RLIYAiiMuagq",
        "colab": {
          "base_uri": "https://localhost:8080/"
        },
        "outputId": "8ef687e4-d2f4-4af8-edbc-c24e1d93492f"
      },
      "source": [
        "torch.manual_seed(42) \n",
        "np.random.seed(42)\n",
        "model = nn.Sequential(\n",
        "  \n",
        "    nn.Linear(inp, inp*3),    \n",
        "    nn.BatchNorm1d(inp*3), \n",
        "    #nn.Dropout(0.2),\n",
        "    nn.ReLU(),\n",
        "    \n",
        "    nn.Linear(inp*3, inp*2),\n",
        "    nn.BatchNorm1d(inp*2),    \n",
        "    #nn.Dropout(0.3),\n",
        "    nn.ReLU(), \n",
        "\n",
        "    nn.Linear(inp*2, inp),\n",
        "    nn.BatchNorm1d(inp),    \n",
        "    #nn.Dropout(0.3),\n",
        "    nn.ReLU(),   \n",
        "\n",
        "    nn.Linear(inp, 3)\n",
        ")\n",
        "    \n",
        "loss_fn = nn.CrossEntropyLoss()\n",
        "optimizer = torch.optim.Adam(model.parameters(),lr=0.01)\n",
        "scheduler = torch.optim.lr_scheduler.StepLR(optimizer,step_size=7,gamma=0.5,verbose=True)\n"
      ],
      "execution_count": 48,
      "outputs": [
        {
          "output_type": "stream",
          "text": [
            "Adjusting learning rate of group 0 to 1.0000e-02.\n"
          ],
          "name": "stdout"
        }
      ]
    },
    {
      "cell_type": "code",
      "metadata": {
        "id": "VYynI0hzuqTL"
      },
      "source": [
        "def train(num_epoch):\n",
        "    train_losses = []\n",
        "    test_losses = []\n",
        "\n",
        "    train_loss_arr=[]\n",
        "    train_acc_arr=[]\n",
        "\n",
        "    for i in range(num_epoch):\n",
        "        running_loss = 0.0\n",
        "        running_corrects = 0\n",
        "        processed_size = 0\n",
        "\n",
        "        \n",
        "        for X_batch, y_batch in batch_generator(X, y, 64):            \n",
        "            model.train(True)\n",
        "            y_pred=model(X_batch)\n",
        "            loss=loss_fn(y_pred,y_batch)\n",
        "            optimizer.zero_grad()\n",
        "            loss.backward()\n",
        "            optimizer.step()                                 \n",
        "            running_loss += loss.item() * y_batch.size(0)            \n",
        "            running_corrects += torch.sum(torch.argmax(y_pred.detach(), 1) == y_batch)            \n",
        "            processed_size += y_batch.size(0)\n",
        "\n",
        "        train_loss_arr.append(running_loss / processed_size)        \n",
        "        train_acc_arr.append((running_corrects / processed_size).numpy())\n",
        "        scheduler.step()\n",
        "           \n",
        "        \n",
        "    return train_loss_arr,train_acc_arr"
      ],
      "execution_count": 49,
      "outputs": []
    },
    {
      "cell_type": "code",
      "metadata": {
        "id": "Yzcek50xMVFV",
        "colab": {
          "base_uri": "https://localhost:8080/"
        },
        "outputId": "c0f58ab9-ee75-4aa9-fff9-83e06e93156b"
      },
      "source": [
        "train_loss_arr,train_acc_arr=train(10)"
      ],
      "execution_count": 50,
      "outputs": [
        {
          "output_type": "stream",
          "text": [
            "Adjusting learning rate of group 0 to 1.0000e-02.\n",
            "Adjusting learning rate of group 0 to 1.0000e-02.\n",
            "Adjusting learning rate of group 0 to 1.0000e-02.\n",
            "Adjusting learning rate of group 0 to 1.0000e-02.\n",
            "Adjusting learning rate of group 0 to 1.0000e-02.\n",
            "Adjusting learning rate of group 0 to 1.0000e-02.\n",
            "Adjusting learning rate of group 0 to 5.0000e-03.\n",
            "Adjusting learning rate of group 0 to 5.0000e-03.\n",
            "Adjusting learning rate of group 0 to 5.0000e-03.\n",
            "Adjusting learning rate of group 0 to 5.0000e-03.\n"
          ],
          "name": "stdout"
        }
      ]
    },
    {
      "cell_type": "code",
      "metadata": {
        "colab": {
          "base_uri": "https://localhost:8080/",
          "height": 282
        },
        "id": "SCLE-PDNus8U",
        "outputId": "2e1deca1-619c-4dcb-de80-914a0237c5b3"
      },
      "source": [
        "plt.scatter(range(len(train_loss_arr)), train_loss_arr)\n"
      ],
      "execution_count": 51,
      "outputs": [
        {
          "output_type": "execute_result",
          "data": {
            "text/plain": [
              "<matplotlib.collections.PathCollection at 0x7fc42b509e80>"
            ]
          },
          "metadata": {
            "tags": []
          },
          "execution_count": 51
        },
        {
          "output_type": "display_data",
          "data": {
            "image/png": "[encoded data removed]",
            "text/plain": [
              "<Figure size 432x288 with 1 Axes>"
            ]
          },
          "metadata": {
            "tags": [],
            "needs_background": "light"
          }
        }
      ]
    },
    {
      "cell_type": "code",
      "metadata": {
        "colab": {
          "base_uri": "https://localhost:8080/",
          "height": 282
        },
        "id": "GVbdA4Ke37Ka",
        "outputId": "ddaac5ff-7c72-47fd-e577-4373a3dbbb57"
      },
      "source": [
        "plt.scatter(range(len(train_acc_arr)), train_acc_arr)\n"
      ],
      "execution_count": 52,
      "outputs": [
        {
          "output_type": "execute_result",
          "data": {
            "text/plain": [
              "<matplotlib.collections.PathCollection at 0x7fc42afe1ba8>"
            ]
          },
          "metadata": {
            "tags": []
          },
          "execution_count": 52
        },
        {
          "output_type": "display_data",
          "data": {
            "image/png": "[encoded data removed]",
            "text/plain": [
              "<Figure size 432x288 with 1 Axes>"
            ]
          },
          "metadata": {
            "tags": [],
            "needs_background": "light"
          }
        }
      ]
    },
    {
      "cell_type": "code",
      "metadata": {
        "id": "fIla_hoqwTfW"
      },
      "source": [
        "model.eval()\n",
        "with torch.no_grad():\n",
        "  y_pred = model(X_test_tensor)  "
      ],
      "execution_count": 53,
      "outputs": []
    },
    {
      "cell_type": "code",
      "metadata": {
        "id": "cCM61qGdxkoJ"
      },
      "source": [
        "sm=torch.nn.Softmax(dim=1)"
      ],
      "execution_count": 54,
      "outputs": []
    },
    {
      "cell_type": "code",
      "metadata": {
        "id": "1eo3_x2xz2jW"
      },
      "source": [
        "pred=torch.argmax(sm(y_pred),dim=1).numpy()"
      ],
      "execution_count": 55,
      "outputs": []
    },
    {
      "cell_type": "code",
      "metadata": {
        "colab": {
          "base_uri": "https://localhost:8080/"
        },
        "id": "GnBdNOys0v1F",
        "outputId": "2ab8843c-3748-47fc-bdf0-7912b54fb93b"
      },
      "source": [
        "pred"
      ],
      "execution_count": 56,
      "outputs": [
        {
          "output_type": "execute_result",
          "data": {
            "text/plain": [
              "array([1, 1, 1, 0, 1, 1, 1, 1, 1, 1, 0, 1, 1, 1, 1, 1, 0, 0, 0, 0, 1, 1,\n",
              "       0, 1, 1, 1, 1, 1, 1, 0, 0, 0, 1, 1, 1, 0, 1, 0, 1, 1, 0, 0, 1, 1,\n",
              "       1, 1, 1, 1, 1, 1, 1, 0, 1, 2, 1, 1, 1, 1, 1, 1, 1, 1, 1, 1, 0, 0,\n",
              "       1, 0, 1, 1, 1, 1, 1, 1, 1, 1, 1, 1, 0, 1, 1, 1, 1, 1, 1, 1, 0, 0,\n",
              "       0, 1, 1, 1, 1, 1, 1, 1, 1, 1, 1, 1, 0, 1, 1, 1, 2, 1, 1, 0, 1, 1,\n",
              "       0, 1, 1, 1, 1, 0, 1, 1, 1, 1, 1, 1, 1, 1, 1, 0, 1, 1, 0, 1, 0, 1,\n",
              "       1])"
            ]
          },
          "metadata": {
            "tags": []
          },
          "execution_count": 56
        }
      ]
    },
    {
      "cell_type": "code",
      "metadata": {
        "id": "mGL5-AOn0yb0"
      },
      "source": [
        "prediction=pd.DataFrame(data={'prediction':pred})"
      ],
      "execution_count": 57,
      "outputs": []
    },
    {
      "cell_type": "code",
      "metadata": {
        "id": "RIniQ5Va7TmC"
      },
      "source": [
        "prediction['prediction']=enc.inverse_transform(prediction)"
      ],
      "execution_count": 58,
      "outputs": []
    },
    {
      "cell_type": "code",
      "metadata": {
        "id": "nMg_uk087afc"
      },
      "source": [
        "prediction.to_csv(\"prediction.csv\", header=None,index=False)"
      ],
      "execution_count": 59,
      "outputs": []
    },
    {
      "cell_type": "code",
      "metadata": {
        "colab": {
          "base_uri": "https://localhost:8080/",
          "height": 204
        },
        "id": "QjUYV4ZX7wgp",
        "outputId": "0af49fd8-0849-4e05-a5c6-12add5689898"
      },
      "source": [
        "pd.read_csv('/content/prediction.csv',header=None).head()"
      ],
      "execution_count": 60,
      "outputs": [
        {
          "output_type": "execute_result",
          "data": {
            "text/html": [
              "<div>\n",
              "<style scoped>\n",
              "    .dataframe tbody tr th:only-of-type {\n",
              "        vertical-align: middle;\n",
              "    }\n",
              "\n",
              "    .dataframe tbody tr th {\n",
              "        vertical-align: top;\n",
              "    }\n",
              "\n",
              "    .dataframe thead th {\n",
              "        text-align: right;\n",
              "    }\n",
              "</style>\n",
              "<table border=\"1\" class=\"dataframe\">\n",
              "  <thead>\n",
              "    <tr style=\"text-align: right;\">\n",
              "      <th></th>\n",
              "      <th>0</th>\n",
              "    </tr>\n",
              "  </thead>\n",
              "  <tbody>\n",
              "    <tr>\n",
              "      <th>0</th>\n",
              "      <td>ONSHORE</td>\n",
              "    </tr>\n",
              "    <tr>\n",
              "      <th>1</th>\n",
              "      <td>ONSHORE</td>\n",
              "    </tr>\n",
              "    <tr>\n",
              "      <th>2</th>\n",
              "      <td>ONSHORE</td>\n",
              "    </tr>\n",
              "    <tr>\n",
              "      <th>3</th>\n",
              "      <td>OFFSHORE</td>\n",
              "    </tr>\n",
              "    <tr>\n",
              "      <th>4</th>\n",
              "      <td>ONSHORE</td>\n",
              "    </tr>\n",
              "  </tbody>\n",
              "</table>\n",
              "</div>"
            ],
            "text/plain": [
              "          0\n",
              "0   ONSHORE\n",
              "1   ONSHORE\n",
              "2   ONSHORE\n",
              "3  OFFSHORE\n",
              "4   ONSHORE"
            ]
          },
          "metadata": {
            "tags": []
          },
          "execution_count": 60
        }
      ]
    },
    {
      "cell_type": "code",
      "metadata": {
        "id": "mZ6M5bGX8jVd",
        "colab": {
          "base_uri": "https://localhost:8080/"
        },
        "outputId": "2c147644-5109-4eb3-d68d-7034eeeeaf6e"
      },
      "source": [
        "y_train.shape"
      ],
      "execution_count": 61,
      "outputs": [
        {
          "output_type": "execute_result",
          "data": {
            "text/plain": [
              "(404, 1)"
            ]
          },
          "metadata": {
            "tags": []
          },
          "execution_count": 61
        }
      ]
    },
    {
      "cell_type": "code",
      "metadata": {
        "id": "l5vjU9KbFV0x"
      },
      "source": [
        ""
      ],
      "execution_count": 61,
      "outputs": []
    }
  ]
}