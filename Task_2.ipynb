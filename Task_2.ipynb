{
  "nbformat": 4,
  "nbformat_minor": 0,
  "metadata": {
    "colab": {
      "name": "Task_2.ipynb",
      "provenance": [],
      "collapsed_sections": [],
      "authorship_tag": "ABX9TyOo79751am8Mfn+J1KuBchg",
      "include_colab_link": true
    },
    "kernelspec": {
      "name": "python3",
      "display_name": "Python 3"
    }
  },
  "cells": [
    {
      "cell_type": "markdown",
      "metadata": {
        "id": "view-in-github",
        "colab_type": "text"
      },
      "source": [
        "<a href=\"https://colab.research.google.com/github/1Un/I_am_a_Professional_Olympiad_2020_2021_ML/blob/main/Task_2.ipynb\" target=\"_parent\"><img src=\"https://colab.research.google.com/assets/colab-badge.svg\" alt=\"Open In Colab\"/></a>"
      ]
    },
    {
      "cell_type": "code",
      "metadata": {
        "id": "Ky3TYpEWMiZT",
        "colab": {
          "base_uri": "https://localhost:8080/"
        },
        "outputId": "bddb86ef-a8e9-442d-fa39-a47727bcd388"
      },
      "source": [
        "from google.colab import drive\n",
        "drive.mount('/content/mydrive')"
      ],
      "execution_count": 1,
      "outputs": [
        {
          "output_type": "stream",
          "text": [
            "Mounted at /content/mydrive\n"
          ],
          "name": "stdout"
        }
      ]
    },
    {
      "cell_type": "code",
      "metadata": {
        "id": "LlcTgOJttW-w",
        "colab": {
          "base_uri": "https://localhost:8080/"
        },
        "outputId": "5f4fbb9b-532e-4ca2-b569-3342f6a0837c"
      },
      "source": [
        "!pip install chemparse"
      ],
      "execution_count": 2,
      "outputs": [
        {
          "output_type": "stream",
          "text": [
            "Collecting chemparse\n",
            "  Downloading https://files.pythonhosted.org/packages/33/90/074708249c3301c97b487ae5371f4c184bedc611a1af36c3869b7ecccf3f/chemparse-0.1.0.tar.gz\n",
            "Building wheels for collected packages: chemparse\n",
            "  Building wheel for chemparse (setup.py) ... \u001b[?25l\u001b[?25hdone\n",
            "  Created wheel for chemparse: filename=chemparse-0.1.0-cp36-none-any.whl size=2913 sha256=37a6ee2593a55bb672f8098b0774f1392adf355cc245a547475f21600af8152e\n",
            "  Stored in directory: /root/.cache/pip/wheels/6d/14/a5/1fee5885ee2793f331fe97ce98392ab4ee79b02147bbb4a59d\n",
            "Successfully built chemparse\n",
            "Installing collected packages: chemparse\n",
            "Successfully installed chemparse-0.1.0\n"
          ],
          "name": "stdout"
        }
      ]
    },
    {
      "cell_type": "code",
      "metadata": {
        "id": "iXVQ7pSqAun6"
      },
      "source": [
        "import pandas as pd\n",
        "import numpy as np\n",
        "import re\n",
        "import regex\n",
        "import chemparse\n",
        "import os\n",
        "import matplotlib.pyplot as plt\n"
      ],
      "execution_count": 47,
      "outputs": []
    },
    {
      "cell_type": "code",
      "metadata": {
        "id": "ncy9ehsHqaOu"
      },
      "source": [
        "dir='/content/mydrive/MyDrive/Colab Notebooks/Olimpiada/ML/Task_2/data'"
      ],
      "execution_count": 48,
      "outputs": []
    },
    {
      "cell_type": "code",
      "metadata": {
        "colab": {
          "base_uri": "https://localhost:8080/",
          "height": 35
        },
        "id": "vWaHNWKXqeTk",
        "outputId": "58b45bd3-4431-45ad-faac-e0030a0202a2"
      },
      "source": [
        "os.path.join(dir,'train.csv')"
      ],
      "execution_count": 49,
      "outputs": [
        {
          "output_type": "execute_result",
          "data": {
            "application/vnd.google.colaboratory.intrinsic+json": {
              "type": "string"
            },
            "text/plain": [
              "'/content/mydrive/MyDrive/Colab Notebooks/Olimpiada/ML/Task_2/data/train.csv'"
            ]
          },
          "metadata": {
            "tags": []
          },
          "execution_count": 49
        }
      ]
    },
    {
      "cell_type": "code",
      "metadata": {
        "id": "m2-ppNfmAX-4"
      },
      "source": [
        "train_df=pd.read_csv(os.path.join(dir,'train.csv'))\n",
        "test_df=pd.read_csv(os.path.join(dir,'test.csv'))"
      ],
      "execution_count": 50,
      "outputs": []
    },
    {
      "cell_type": "code",
      "metadata": {
        "id": "ZK87PfdZAswH"
      },
      "source": [
        "formula_train_df=pd.read_csv(os.path.join(dir,'formula_train.csv'),encoding='cp1252',low_memory=False)\n",
        "formula_test_df=pd.read_csv(os.path.join(dir,'formula_test.csv'),encoding='cp1252',low_memory=False)"
      ],
      "execution_count": 51,
      "outputs": []
    },
    {
      "cell_type": "code",
      "metadata": {
        "id": "qOzkLHYHYkm-"
      },
      "source": [
        "materia_train=formula_train_df[['material']][:10]"
      ],
      "execution_count": 52,
      "outputs": []
    },
    {
      "cell_type": "code",
      "metadata": {
        "id": "9v7aFbqPYmhE"
      },
      "source": [
        "keys=list(formula_train_df.keys()[:-1])"
      ],
      "execution_count": 53,
      "outputs": []
    },
    {
      "cell_type": "code",
      "metadata": {
        "colab": {
          "base_uri": "https://localhost:8080/",
          "height": 359
        },
        "id": "r82I6xoPcxit",
        "outputId": "24e356b7-6b1a-4a97-f07c-154e3652c639"
      },
      "source": [
        "materia_train"
      ],
      "execution_count": 54,
      "outputs": [
        {
          "output_type": "execute_result",
          "data": {
            "text/html": [
              "<div>\n",
              "<style scoped>\n",
              "    .dataframe tbody tr th:only-of-type {\n",
              "        vertical-align: middle;\n",
              "    }\n",
              "\n",
              "    .dataframe tbody tr th {\n",
              "        vertical-align: top;\n",
              "    }\n",
              "\n",
              "    .dataframe thead th {\n",
              "        text-align: right;\n",
              "    }\n",
              "</style>\n",
              "<table border=\"1\" class=\"dataframe\">\n",
              "  <thead>\n",
              "    <tr style=\"text-align: right;\">\n",
              "      <th></th>\n",
              "      <th>material</th>\n",
              "    </tr>\n",
              "  </thead>\n",
              "  <tbody>\n",
              "    <tr>\n",
              "      <th>0</th>\n",
              "      <td>Eu1Fe1.5Ru0.5As2</td>\n",
              "    </tr>\n",
              "    <tr>\n",
              "      <th>1</th>\n",
              "      <td>Bi2Sr2Ca1Cu2O8</td>\n",
              "    </tr>\n",
              "    <tr>\n",
              "      <th>2</th>\n",
              "      <td>N0.3S0.7</td>\n",
              "    </tr>\n",
              "    <tr>\n",
              "      <th>3</th>\n",
              "      <td>Ba1Fe1.9Co0.1As2</td>\n",
              "    </tr>\n",
              "    <tr>\n",
              "      <th>4</th>\n",
              "      <td>Rh17S15</td>\n",
              "    </tr>\n",
              "    <tr>\n",
              "      <th>5</th>\n",
              "      <td>Ge2Rh3</td>\n",
              "    </tr>\n",
              "    <tr>\n",
              "      <th>6</th>\n",
              "      <td>Ti0.5Nb0.25Sb0.25</td>\n",
              "    </tr>\n",
              "    <tr>\n",
              "      <th>7</th>\n",
              "      <td>Tl0.5Hg0.5Ba2Ca2Cu3O8</td>\n",
              "    </tr>\n",
              "    <tr>\n",
              "      <th>8</th>\n",
              "      <td>Mg0.97Fe0.03B2</td>\n",
              "    </tr>\n",
              "    <tr>\n",
              "      <th>9</th>\n",
              "      <td>Pb1.4Sr4Y1.2Ca0.8Cu4.6O</td>\n",
              "    </tr>\n",
              "  </tbody>\n",
              "</table>\n",
              "</div>"
            ],
            "text/plain": [
              "                  material\n",
              "0         Eu1Fe1.5Ru0.5As2\n",
              "1           Bi2Sr2Ca1Cu2O8\n",
              "2                 N0.3S0.7\n",
              "3         Ba1Fe1.9Co0.1As2\n",
              "4                  Rh17S15\n",
              "5                   Ge2Rh3\n",
              "6        Ti0.5Nb0.25Sb0.25\n",
              "7    Tl0.5Hg0.5Ba2Ca2Cu3O8\n",
              "8           Mg0.97Fe0.03B2\n",
              "9  Pb1.4Sr4Y1.2Ca0.8Cu4.6O"
            ]
          },
          "metadata": {
            "tags": []
          },
          "execution_count": 54
        }
      ]
    },
    {
      "cell_type": "code",
      "metadata": {
        "id": "rjQit0fveU1X"
      },
      "source": [
        "tmp='Eu1Fe1.5Ru0.5As2'"
      ],
      "execution_count": 55,
      "outputs": []
    },
    {
      "cell_type": "code",
      "metadata": {
        "colab": {
          "base_uri": "https://localhost:8080/"
        },
        "id": "f61T9bf6tROE",
        "outputId": "f161448d-5932-4070-af91-cda7cdcdb1dd"
      },
      "source": [
        "list(filter(None,regex.split(\"[^a-zA-Z]*\",tmp)))"
      ],
      "execution_count": 56,
      "outputs": [
        {
          "output_type": "execute_result",
          "data": {
            "text/plain": [
              "['Eu', 'Fe', 'Ru', 'As']"
            ]
          },
          "metadata": {
            "tags": []
          },
          "execution_count": 56
        }
      ]
    },
    {
      "cell_type": "code",
      "metadata": {
        "colab": {
          "base_uri": "https://localhost:8080/"
        },
        "id": "vfaCpCK2t2ge",
        "outputId": "bb9ac2fd-e85d-446e-ffcb-08ca5b219d1a"
      },
      "source": [
        "list(filter(None,regex.split(\"[^0-9.0-9]*\",tmp)))"
      ],
      "execution_count": 57,
      "outputs": [
        {
          "output_type": "execute_result",
          "data": {
            "text/plain": [
              "['1', '1.5', '0.5', '2']"
            ]
          },
          "metadata": {
            "tags": []
          },
          "execution_count": 57
        }
      ]
    },
    {
      "cell_type": "code",
      "metadata": {
        "colab": {
          "base_uri": "https://localhost:8080/"
        },
        "id": "YuX7SNQUzKHn",
        "outputId": "ff3e052e-9ace-4561-d65f-4ac6a702e771"
      },
      "source": [
        "formula_train_df[keys].shape"
      ],
      "execution_count": 58,
      "outputs": [
        {
          "output_type": "execute_result",
          "data": {
            "text/plain": [
              "(17000, 86)"
            ]
          },
          "metadata": {
            "tags": []
          },
          "execution_count": 58
        }
      ]
    },
    {
      "cell_type": "code",
      "metadata": {
        "id": "4h3dfCv1xIW_"
      },
      "source": [
        "new_train_df=pd.DataFrame(columns=keys,data=np.zeros(formula_train_df[keys].shape))"
      ],
      "execution_count": 59,
      "outputs": []
    },
    {
      "cell_type": "code",
      "metadata": {
        "colab": {
          "base_uri": "https://localhost:8080/"
        },
        "id": "YM3TOmy2zkT7",
        "outputId": "497f0112-bfe7-4448-ec73-df7551e40f1c"
      },
      "source": [
        "formula_train_df[['material']].shape"
      ],
      "execution_count": 60,
      "outputs": [
        {
          "output_type": "execute_result",
          "data": {
            "text/plain": [
              "(17000, 1)"
            ]
          },
          "metadata": {
            "tags": []
          },
          "execution_count": 60
        }
      ]
    },
    {
      "cell_type": "code",
      "metadata": {
        "colab": {
          "base_uri": "https://localhost:8080/",
          "height": 160
        },
        "id": "6aEic5lP2b8n",
        "outputId": "8534bdad-6fc8-4b0e-aace-43abae11bfce"
      },
      "source": [
        "new_train_df.head(2)"
      ],
      "execution_count": 61,
      "outputs": [
        {
          "output_type": "execute_result",
          "data": {
            "text/html": [
              "<div>\n",
              "<style scoped>\n",
              "    .dataframe tbody tr th:only-of-type {\n",
              "        vertical-align: middle;\n",
              "    }\n",
              "\n",
              "    .dataframe tbody tr th {\n",
              "        vertical-align: top;\n",
              "    }\n",
              "\n",
              "    .dataframe thead th {\n",
              "        text-align: right;\n",
              "    }\n",
              "</style>\n",
              "<table border=\"1\" class=\"dataframe\">\n",
              "  <thead>\n",
              "    <tr style=\"text-align: right;\">\n",
              "      <th></th>\n",
              "      <th>H</th>\n",
              "      <th>He</th>\n",
              "      <th>Li</th>\n",
              "      <th>Be</th>\n",
              "      <th>B</th>\n",
              "      <th>C</th>\n",
              "      <th>N</th>\n",
              "      <th>O</th>\n",
              "      <th>F</th>\n",
              "      <th>Ne</th>\n",
              "      <th>Na</th>\n",
              "      <th>Mg</th>\n",
              "      <th>Al</th>\n",
              "      <th>Si</th>\n",
              "      <th>P</th>\n",
              "      <th>S</th>\n",
              "      <th>Cl</th>\n",
              "      <th>Ar</th>\n",
              "      <th>K</th>\n",
              "      <th>Ca</th>\n",
              "      <th>Sc</th>\n",
              "      <th>Ti</th>\n",
              "      <th>V</th>\n",
              "      <th>Cr</th>\n",
              "      <th>Mn</th>\n",
              "      <th>Fe</th>\n",
              "      <th>Co</th>\n",
              "      <th>Ni</th>\n",
              "      <th>Cu</th>\n",
              "      <th>Zn</th>\n",
              "      <th>Ga</th>\n",
              "      <th>Ge</th>\n",
              "      <th>As</th>\n",
              "      <th>Se</th>\n",
              "      <th>Br</th>\n",
              "      <th>Kr</th>\n",
              "      <th>Rb</th>\n",
              "      <th>Sr</th>\n",
              "      <th>Y</th>\n",
              "      <th>Zr</th>\n",
              "      <th>...</th>\n",
              "      <th>Ag</th>\n",
              "      <th>Cd</th>\n",
              "      <th>In</th>\n",
              "      <th>Sn</th>\n",
              "      <th>Sb</th>\n",
              "      <th>Te</th>\n",
              "      <th>I</th>\n",
              "      <th>Xe</th>\n",
              "      <th>Cs</th>\n",
              "      <th>Ba</th>\n",
              "      <th>La</th>\n",
              "      <th>Ce</th>\n",
              "      <th>Pr</th>\n",
              "      <th>Nd</th>\n",
              "      <th>Pm</th>\n",
              "      <th>Sm</th>\n",
              "      <th>Eu</th>\n",
              "      <th>Gd</th>\n",
              "      <th>Tb</th>\n",
              "      <th>Dy</th>\n",
              "      <th>Ho</th>\n",
              "      <th>Er</th>\n",
              "      <th>Tm</th>\n",
              "      <th>Yb</th>\n",
              "      <th>Lu</th>\n",
              "      <th>Hf</th>\n",
              "      <th>Ta</th>\n",
              "      <th>W</th>\n",
              "      <th>Re</th>\n",
              "      <th>Os</th>\n",
              "      <th>Ir</th>\n",
              "      <th>Pt</th>\n",
              "      <th>Au</th>\n",
              "      <th>Hg</th>\n",
              "      <th>Tl</th>\n",
              "      <th>Pb</th>\n",
              "      <th>Bi</th>\n",
              "      <th>Po</th>\n",
              "      <th>At</th>\n",
              "      <th>Rn</th>\n",
              "    </tr>\n",
              "  </thead>\n",
              "  <tbody>\n",
              "    <tr>\n",
              "      <th>0</th>\n",
              "      <td>0.0</td>\n",
              "      <td>0.0</td>\n",
              "      <td>0.0</td>\n",
              "      <td>0.0</td>\n",
              "      <td>0.0</td>\n",
              "      <td>0.0</td>\n",
              "      <td>0.0</td>\n",
              "      <td>0.0</td>\n",
              "      <td>0.0</td>\n",
              "      <td>0.0</td>\n",
              "      <td>0.0</td>\n",
              "      <td>0.0</td>\n",
              "      <td>0.0</td>\n",
              "      <td>0.0</td>\n",
              "      <td>0.0</td>\n",
              "      <td>0.0</td>\n",
              "      <td>0.0</td>\n",
              "      <td>0.0</td>\n",
              "      <td>0.0</td>\n",
              "      <td>0.0</td>\n",
              "      <td>0.0</td>\n",
              "      <td>0.0</td>\n",
              "      <td>0.0</td>\n",
              "      <td>0.0</td>\n",
              "      <td>0.0</td>\n",
              "      <td>0.0</td>\n",
              "      <td>0.0</td>\n",
              "      <td>0.0</td>\n",
              "      <td>0.0</td>\n",
              "      <td>0.0</td>\n",
              "      <td>0.0</td>\n",
              "      <td>0.0</td>\n",
              "      <td>0.0</td>\n",
              "      <td>0.0</td>\n",
              "      <td>0.0</td>\n",
              "      <td>0.0</td>\n",
              "      <td>0.0</td>\n",
              "      <td>0.0</td>\n",
              "      <td>0.0</td>\n",
              "      <td>0.0</td>\n",
              "      <td>...</td>\n",
              "      <td>0.0</td>\n",
              "      <td>0.0</td>\n",
              "      <td>0.0</td>\n",
              "      <td>0.0</td>\n",
              "      <td>0.0</td>\n",
              "      <td>0.0</td>\n",
              "      <td>0.0</td>\n",
              "      <td>0.0</td>\n",
              "      <td>0.0</td>\n",
              "      <td>0.0</td>\n",
              "      <td>0.0</td>\n",
              "      <td>0.0</td>\n",
              "      <td>0.0</td>\n",
              "      <td>0.0</td>\n",
              "      <td>0.0</td>\n",
              "      <td>0.0</td>\n",
              "      <td>0.0</td>\n",
              "      <td>0.0</td>\n",
              "      <td>0.0</td>\n",
              "      <td>0.0</td>\n",
              "      <td>0.0</td>\n",
              "      <td>0.0</td>\n",
              "      <td>0.0</td>\n",
              "      <td>0.0</td>\n",
              "      <td>0.0</td>\n",
              "      <td>0.0</td>\n",
              "      <td>0.0</td>\n",
              "      <td>0.0</td>\n",
              "      <td>0.0</td>\n",
              "      <td>0.0</td>\n",
              "      <td>0.0</td>\n",
              "      <td>0.0</td>\n",
              "      <td>0.0</td>\n",
              "      <td>0.0</td>\n",
              "      <td>0.0</td>\n",
              "      <td>0.0</td>\n",
              "      <td>0.0</td>\n",
              "      <td>0.0</td>\n",
              "      <td>0.0</td>\n",
              "      <td>0.0</td>\n",
              "    </tr>\n",
              "    <tr>\n",
              "      <th>1</th>\n",
              "      <td>0.0</td>\n",
              "      <td>0.0</td>\n",
              "      <td>0.0</td>\n",
              "      <td>0.0</td>\n",
              "      <td>0.0</td>\n",
              "      <td>0.0</td>\n",
              "      <td>0.0</td>\n",
              "      <td>0.0</td>\n",
              "      <td>0.0</td>\n",
              "      <td>0.0</td>\n",
              "      <td>0.0</td>\n",
              "      <td>0.0</td>\n",
              "      <td>0.0</td>\n",
              "      <td>0.0</td>\n",
              "      <td>0.0</td>\n",
              "      <td>0.0</td>\n",
              "      <td>0.0</td>\n",
              "      <td>0.0</td>\n",
              "      <td>0.0</td>\n",
              "      <td>0.0</td>\n",
              "      <td>0.0</td>\n",
              "      <td>0.0</td>\n",
              "      <td>0.0</td>\n",
              "      <td>0.0</td>\n",
              "      <td>0.0</td>\n",
              "      <td>0.0</td>\n",
              "      <td>0.0</td>\n",
              "      <td>0.0</td>\n",
              "      <td>0.0</td>\n",
              "      <td>0.0</td>\n",
              "      <td>0.0</td>\n",
              "      <td>0.0</td>\n",
              "      <td>0.0</td>\n",
              "      <td>0.0</td>\n",
              "      <td>0.0</td>\n",
              "      <td>0.0</td>\n",
              "      <td>0.0</td>\n",
              "      <td>0.0</td>\n",
              "      <td>0.0</td>\n",
              "      <td>0.0</td>\n",
              "      <td>...</td>\n",
              "      <td>0.0</td>\n",
              "      <td>0.0</td>\n",
              "      <td>0.0</td>\n",
              "      <td>0.0</td>\n",
              "      <td>0.0</td>\n",
              "      <td>0.0</td>\n",
              "      <td>0.0</td>\n",
              "      <td>0.0</td>\n",
              "      <td>0.0</td>\n",
              "      <td>0.0</td>\n",
              "      <td>0.0</td>\n",
              "      <td>0.0</td>\n",
              "      <td>0.0</td>\n",
              "      <td>0.0</td>\n",
              "      <td>0.0</td>\n",
              "      <td>0.0</td>\n",
              "      <td>0.0</td>\n",
              "      <td>0.0</td>\n",
              "      <td>0.0</td>\n",
              "      <td>0.0</td>\n",
              "      <td>0.0</td>\n",
              "      <td>0.0</td>\n",
              "      <td>0.0</td>\n",
              "      <td>0.0</td>\n",
              "      <td>0.0</td>\n",
              "      <td>0.0</td>\n",
              "      <td>0.0</td>\n",
              "      <td>0.0</td>\n",
              "      <td>0.0</td>\n",
              "      <td>0.0</td>\n",
              "      <td>0.0</td>\n",
              "      <td>0.0</td>\n",
              "      <td>0.0</td>\n",
              "      <td>0.0</td>\n",
              "      <td>0.0</td>\n",
              "      <td>0.0</td>\n",
              "      <td>0.0</td>\n",
              "      <td>0.0</td>\n",
              "      <td>0.0</td>\n",
              "      <td>0.0</td>\n",
              "    </tr>\n",
              "  </tbody>\n",
              "</table>\n",
              "<p>2 rows × 86 columns</p>\n",
              "</div>"
            ],
            "text/plain": [
              "     H   He   Li   Be    B    C    N  ...   Hg   Tl   Pb   Bi   Po   At   Rn\n",
              "0  0.0  0.0  0.0  0.0  0.0  0.0  0.0  ...  0.0  0.0  0.0  0.0  0.0  0.0  0.0\n",
              "1  0.0  0.0  0.0  0.0  0.0  0.0  0.0  ...  0.0  0.0  0.0  0.0  0.0  0.0  0.0\n",
              "\n",
              "[2 rows x 86 columns]"
            ]
          },
          "metadata": {
            "tags": []
          },
          "execution_count": 61
        }
      ]
    },
    {
      "cell_type": "markdown",
      "metadata": {
        "id": "IT4oUOGE9PUS"
      },
      "source": [
        "Exception"
      ]
    },
    {
      "cell_type": "code",
      "metadata": {
        "id": "G9r7_cLwtc1o"
      },
      "source": [
        "for row in range(new_train_df.shape[0]):\n",
        "\n",
        "  string=formula_train_df['material'][row]\n",
        "  dic=chemparse.parse_formula(string)\n",
        "\n",
        "  if (len(set(dic.keys())-set(keys))!=0)and (string=='BaKBi1O3'):\n",
        "    string='Ba1KBi1O3'\n",
        "    dic=chemparse.parse_formula(string)\n",
        "    \n",
        "  new_train_df.loc[row,dic.keys()]=dic.values()\n",
        "  if new_train_df.isna().sum().sum()!=0:  \n",
        "   print(row)\n",
        "   print(dic)\n",
        "   break\n",
        "  "
      ],
      "execution_count": 62,
      "outputs": []
    },
    {
      "cell_type": "code",
      "metadata": {
        "id": "3SQ1TIZ5wlKI"
      },
      "source": [
        "# tmp=pd.read_csv(os.path.join(dir,'formula_train.csv'),encoding='cp1252',low_memory=False).drop(['material'],axis=1)\n",
        "# tmp = tmp.apply(pd.to_numeric, errors='coerce')\n",
        "# tmp.head(10)"
      ],
      "execution_count": 63,
      "outputs": []
    },
    {
      "cell_type": "code",
      "metadata": {
        "id": "GHMf2muC6dXw"
      },
      "source": [
        "#new_train_df.head(10)"
      ],
      "execution_count": 64,
      "outputs": []
    },
    {
      "cell_type": "code",
      "metadata": {
        "id": "ayPS1KqOs65M"
      },
      "source": [
        "new_test_df=pd.DataFrame(columns=keys,data=np.zeros(formula_test_df[keys].shape))"
      ],
      "execution_count": 65,
      "outputs": []
    },
    {
      "cell_type": "code",
      "metadata": {
        "id": "ie-Ttrik47-e"
      },
      "source": [
        "for row in range(new_test_df.shape[0]):\n",
        "\n",
        "  string=formula_test_df['material'][row]\n",
        "  dic=chemparse.parse_formula(string)\n",
        "\n",
        "  if (len(set(dic.keys())-set(keys))!=0)and (string=='BaKBi1O3'):\n",
        "    string='Ba1KBi1O3'\n",
        "    dic=chemparse.parse_formula(string)\n",
        "  if (len(set(dic.keys())-set(keys))!=0)and (string=='Hg1Ba2CaSrCu3O8'):\n",
        "    string='Hg1Ba2Ca1SrCu3O8'\n",
        "    dic=chemparse.parse_formula(string)    \n",
        "  if (len(set(dic.keys())-set(keys))!=0)and (string=='Hg0.5Tl0.5Ba2CaSrCu3O8'):\n",
        "    string='Hg0.5Tl0.5Ba2Ca1SrCu3O8'\n",
        "    dic=chemparse.parse_formula(string)      \n",
        "  \n",
        "  new_test_df.loc[row,dic.keys()]=dic.values()\n",
        "  if (len(set(dic.keys())-set(keys))!=0):  \n",
        "   print(row)\n",
        "   print(dic)\n",
        "   continue\n",
        "  "
      ],
      "execution_count": 66,
      "outputs": []
    },
    {
      "cell_type": "code",
      "metadata": {
        "id": "HL2gmLaVtnMB"
      },
      "source": [
        "scaler_f=list(train_df.iloc[:,:-1].keys())"
      ],
      "execution_count": 67,
      "outputs": []
    },
    {
      "cell_type": "code",
      "metadata": {
        "id": "REPR4bbFCLtl"
      },
      "source": [
        "X_train=train_df.iloc[:,:-1].join(new_train_df)\n",
        "y_train=train_df.iloc[:,[-1]]"
      ],
      "execution_count": 68,
      "outputs": []
    },
    {
      "cell_type": "code",
      "metadata": {
        "id": "hYw69fomC08h"
      },
      "source": [
        "X_test=test_df.join(new_test_df)\n"
      ],
      "execution_count": 69,
      "outputs": []
    },
    {
      "cell_type": "code",
      "metadata": {
        "colab": {
          "base_uri": "https://localhost:8080/",
          "height": 204
        },
        "id": "FN0DPA9WDQTG",
        "outputId": "bc3eef80-a359-428f-f931-6389f3f11ddd"
      },
      "source": [
        "y_train.head()"
      ],
      "execution_count": 70,
      "outputs": [
        {
          "output_type": "execute_result",
          "data": {
            "text/html": [
              "<div>\n",
              "<style scoped>\n",
              "    .dataframe tbody tr th:only-of-type {\n",
              "        vertical-align: middle;\n",
              "    }\n",
              "\n",
              "    .dataframe tbody tr th {\n",
              "        vertical-align: top;\n",
              "    }\n",
              "\n",
              "    .dataframe thead th {\n",
              "        text-align: right;\n",
              "    }\n",
              "</style>\n",
              "<table border=\"1\" class=\"dataframe\">\n",
              "  <thead>\n",
              "    <tr style=\"text-align: right;\">\n",
              "      <th></th>\n",
              "      <th>critical_temperature</th>\n",
              "    </tr>\n",
              "  </thead>\n",
              "  <tbody>\n",
              "    <tr>\n",
              "      <th>0</th>\n",
              "      <td>21.50</td>\n",
              "    </tr>\n",
              "    <tr>\n",
              "      <th>1</th>\n",
              "      <td>62.00</td>\n",
              "    </tr>\n",
              "    <tr>\n",
              "      <th>2</th>\n",
              "      <td>0.29</td>\n",
              "    </tr>\n",
              "    <tr>\n",
              "      <th>3</th>\n",
              "      <td>19.50</td>\n",
              "    </tr>\n",
              "    <tr>\n",
              "      <th>4</th>\n",
              "      <td>5.36</td>\n",
              "    </tr>\n",
              "  </tbody>\n",
              "</table>\n",
              "</div>"
            ],
            "text/plain": [
              "   critical_temperature\n",
              "0                 21.50\n",
              "1                 62.00\n",
              "2                  0.29\n",
              "3                 19.50\n",
              "4                  5.36"
            ]
          },
          "metadata": {
            "tags": []
          },
          "execution_count": 70
        }
      ]
    },
    {
      "cell_type": "code",
      "metadata": {
        "colab": {
          "base_uri": "https://localhost:8080/",
          "height": 160
        },
        "id": "Ly_Hm_7NtzEQ",
        "outputId": "384a1ae9-d6c0-4a32-97a2-7731f2820366"
      },
      "source": [
        "X_train.head(2)"
      ],
      "execution_count": 71,
      "outputs": [
        {
          "output_type": "execute_result",
          "data": {
            "text/html": [
              "<div>\n",
              "<style scoped>\n",
              "    .dataframe tbody tr th:only-of-type {\n",
              "        vertical-align: middle;\n",
              "    }\n",
              "\n",
              "    .dataframe tbody tr th {\n",
              "        vertical-align: top;\n",
              "    }\n",
              "\n",
              "    .dataframe thead th {\n",
              "        text-align: right;\n",
              "    }\n",
              "</style>\n",
              "<table border=\"1\" class=\"dataframe\">\n",
              "  <thead>\n",
              "    <tr style=\"text-align: right;\">\n",
              "      <th></th>\n",
              "      <th>feature1</th>\n",
              "      <th>feature2</th>\n",
              "      <th>feature3</th>\n",
              "      <th>feature4</th>\n",
              "      <th>feature5</th>\n",
              "      <th>feature6</th>\n",
              "      <th>feature7</th>\n",
              "      <th>feature8</th>\n",
              "      <th>feature9</th>\n",
              "      <th>feature10</th>\n",
              "      <th>feature11</th>\n",
              "      <th>feature12</th>\n",
              "      <th>feature13</th>\n",
              "      <th>feature14</th>\n",
              "      <th>feature15</th>\n",
              "      <th>feature16</th>\n",
              "      <th>feature17</th>\n",
              "      <th>feature18</th>\n",
              "      <th>feature19</th>\n",
              "      <th>feature20</th>\n",
              "      <th>feature21</th>\n",
              "      <th>feature22</th>\n",
              "      <th>feature23</th>\n",
              "      <th>feature24</th>\n",
              "      <th>feature25</th>\n",
              "      <th>feature26</th>\n",
              "      <th>feature27</th>\n",
              "      <th>feature28</th>\n",
              "      <th>feature29</th>\n",
              "      <th>feature30</th>\n",
              "      <th>feature31</th>\n",
              "      <th>feature32</th>\n",
              "      <th>feature33</th>\n",
              "      <th>feature34</th>\n",
              "      <th>feature35</th>\n",
              "      <th>feature36</th>\n",
              "      <th>feature37</th>\n",
              "      <th>feature38</th>\n",
              "      <th>feature39</th>\n",
              "      <th>feature40</th>\n",
              "      <th>...</th>\n",
              "      <th>Ag</th>\n",
              "      <th>Cd</th>\n",
              "      <th>In</th>\n",
              "      <th>Sn</th>\n",
              "      <th>Sb</th>\n",
              "      <th>Te</th>\n",
              "      <th>I</th>\n",
              "      <th>Xe</th>\n",
              "      <th>Cs</th>\n",
              "      <th>Ba</th>\n",
              "      <th>La</th>\n",
              "      <th>Ce</th>\n",
              "      <th>Pr</th>\n",
              "      <th>Nd</th>\n",
              "      <th>Pm</th>\n",
              "      <th>Sm</th>\n",
              "      <th>Eu</th>\n",
              "      <th>Gd</th>\n",
              "      <th>Tb</th>\n",
              "      <th>Dy</th>\n",
              "      <th>Ho</th>\n",
              "      <th>Er</th>\n",
              "      <th>Tm</th>\n",
              "      <th>Yb</th>\n",
              "      <th>Lu</th>\n",
              "      <th>Hf</th>\n",
              "      <th>Ta</th>\n",
              "      <th>W</th>\n",
              "      <th>Re</th>\n",
              "      <th>Os</th>\n",
              "      <th>Ir</th>\n",
              "      <th>Pt</th>\n",
              "      <th>Au</th>\n",
              "      <th>Hg</th>\n",
              "      <th>Tl</th>\n",
              "      <th>Pb</th>\n",
              "      <th>Bi</th>\n",
              "      <th>Po</th>\n",
              "      <th>At</th>\n",
              "      <th>Rn</th>\n",
              "    </tr>\n",
              "  </thead>\n",
              "  <tbody>\n",
              "    <tr>\n",
              "      <th>0</th>\n",
              "      <td>4</td>\n",
              "      <td>95.95015</td>\n",
              "      <td>87.22194</td>\n",
              "      <td>89.534122</td>\n",
              "      <td>81.423258</td>\n",
              "      <td>1.31759</td>\n",
              "      <td>1.301059</td>\n",
              "      <td>96.119</td>\n",
              "      <td>20.285800</td>\n",
              "      <td>36.105357</td>\n",
              "      <td>34.833271</td>\n",
              "      <td>740.625</td>\n",
              "      <td>786.620000</td>\n",
              "      <td>726.788285</td>\n",
              "      <td>771.273911</td>\n",
              "      <td>1.367745</td>\n",
              "      <td>1.202333</td>\n",
              "      <td>399.3</td>\n",
              "      <td>307.450000</td>\n",
              "      <td>142.347627</td>\n",
              "      <td>149.963748</td>\n",
              "      <td>169.75</td>\n",
              "      <td>156.400000</td>\n",
              "      <td>164.442987</td>\n",
              "      <td>150.821660</td>\n",
              "      <td>1.355290</td>\n",
              "      <td>1.327938</td>\n",
              "      <td>117</td>\n",
              "      <td>29.000000</td>\n",
              "      <td>42.180416</td>\n",
              "      <td>43.345588</td>\n",
              "      <td>7803.7500</td>\n",
              "      <td>6938.8000</td>\n",
              "      <td>7354.256010</td>\n",
              "      <td>6686.502371</td>\n",
              "      <td>1.325027</td>\n",
              "      <td>1.325720</td>\n",
              "      <td>7126.000</td>\n",
              "      <td>1313.400000</td>\n",
              "      <td>2816.060402</td>\n",
              "      <td>...</td>\n",
              "      <td>0.0</td>\n",
              "      <td>0.0</td>\n",
              "      <td>0.0</td>\n",
              "      <td>0.0</td>\n",
              "      <td>0.0</td>\n",
              "      <td>0.0</td>\n",
              "      <td>0.0</td>\n",
              "      <td>0.0</td>\n",
              "      <td>0.0</td>\n",
              "      <td>0.0</td>\n",
              "      <td>0.0</td>\n",
              "      <td>0.0</td>\n",
              "      <td>0.0</td>\n",
              "      <td>0.0</td>\n",
              "      <td>0.0</td>\n",
              "      <td>0.0</td>\n",
              "      <td>1.0</td>\n",
              "      <td>0.0</td>\n",
              "      <td>0.0</td>\n",
              "      <td>0.0</td>\n",
              "      <td>0.0</td>\n",
              "      <td>0.0</td>\n",
              "      <td>0.0</td>\n",
              "      <td>0.0</td>\n",
              "      <td>0.0</td>\n",
              "      <td>0.0</td>\n",
              "      <td>0.0</td>\n",
              "      <td>0.0</td>\n",
              "      <td>0.0</td>\n",
              "      <td>0.0</td>\n",
              "      <td>0.0</td>\n",
              "      <td>0.0</td>\n",
              "      <td>0.0</td>\n",
              "      <td>0.0</td>\n",
              "      <td>0.0</td>\n",
              "      <td>0.0</td>\n",
              "      <td>0.0</td>\n",
              "      <td>0.0</td>\n",
              "      <td>0.0</td>\n",
              "      <td>0.0</td>\n",
              "    </tr>\n",
              "    <tr>\n",
              "      <th>1</th>\n",
              "      <td>5</td>\n",
              "      <td>83.24476</td>\n",
              "      <td>59.22440</td>\n",
              "      <td>59.506081</td>\n",
              "      <td>36.126175</td>\n",
              "      <td>1.31151</td>\n",
              "      <td>1.372050</td>\n",
              "      <td>192.981</td>\n",
              "      <td>25.192187</td>\n",
              "      <td>67.233835</td>\n",
              "      <td>64.196304</td>\n",
              "      <td>779.880</td>\n",
              "      <td>1005.866667</td>\n",
              "      <td>740.399333</td>\n",
              "      <td>945.371396</td>\n",
              "      <td>1.553219</td>\n",
              "      <td>1.019202</td>\n",
              "      <td>764.1</td>\n",
              "      <td>661.026667</td>\n",
              "      <td>276.063148</td>\n",
              "      <td>333.238432</td>\n",
              "      <td>149.80</td>\n",
              "      <td>106.133333</td>\n",
              "      <td>133.425311</td>\n",
              "      <td>86.457339</td>\n",
              "      <td>1.519537</td>\n",
              "      <td>1.573185</td>\n",
              "      <td>171</td>\n",
              "      <td>16.266667</td>\n",
              "      <td>58.608532</td>\n",
              "      <td>66.319295</td>\n",
              "      <td>4584.2858</td>\n",
              "      <td>2953.4288</td>\n",
              "      <td>874.164786</td>\n",
              "      <td>64.622881</td>\n",
              "      <td>1.161774</td>\n",
              "      <td>1.099512</td>\n",
              "      <td>9778.571</td>\n",
              "      <td>1303.237867</td>\n",
              "      <td>4004.273231</td>\n",
              "      <td>...</td>\n",
              "      <td>0.0</td>\n",
              "      <td>0.0</td>\n",
              "      <td>0.0</td>\n",
              "      <td>0.0</td>\n",
              "      <td>0.0</td>\n",
              "      <td>0.0</td>\n",
              "      <td>0.0</td>\n",
              "      <td>0.0</td>\n",
              "      <td>0.0</td>\n",
              "      <td>0.0</td>\n",
              "      <td>0.0</td>\n",
              "      <td>0.0</td>\n",
              "      <td>0.0</td>\n",
              "      <td>0.0</td>\n",
              "      <td>0.0</td>\n",
              "      <td>0.0</td>\n",
              "      <td>0.0</td>\n",
              "      <td>0.0</td>\n",
              "      <td>0.0</td>\n",
              "      <td>0.0</td>\n",
              "      <td>0.0</td>\n",
              "      <td>0.0</td>\n",
              "      <td>0.0</td>\n",
              "      <td>0.0</td>\n",
              "      <td>0.0</td>\n",
              "      <td>0.0</td>\n",
              "      <td>0.0</td>\n",
              "      <td>0.0</td>\n",
              "      <td>0.0</td>\n",
              "      <td>0.0</td>\n",
              "      <td>0.0</td>\n",
              "      <td>0.0</td>\n",
              "      <td>0.0</td>\n",
              "      <td>0.0</td>\n",
              "      <td>0.0</td>\n",
              "      <td>0.0</td>\n",
              "      <td>2.0</td>\n",
              "      <td>0.0</td>\n",
              "      <td>0.0</td>\n",
              "      <td>0.0</td>\n",
              "    </tr>\n",
              "  </tbody>\n",
              "</table>\n",
              "<p>2 rows × 167 columns</p>\n",
              "</div>"
            ],
            "text/plain": [
              "   feature1  feature2  feature3   feature4   feature5  ...   Pb   Bi   Po   At   Rn\n",
              "0         4  95.95015  87.22194  89.534122  81.423258  ...  0.0  0.0  0.0  0.0  0.0\n",
              "1         5  83.24476  59.22440  59.506081  36.126175  ...  0.0  2.0  0.0  0.0  0.0\n",
              "\n",
              "[2 rows x 167 columns]"
            ]
          },
          "metadata": {
            "tags": []
          },
          "execution_count": 71
        }
      ]
    },
    {
      "cell_type": "code",
      "metadata": {
        "id": "EsW2or_VFtk9"
      },
      "source": [
        "from sklearn.preprocessing import StandardScaler\n",
        "scaler=StandardScaler()"
      ],
      "execution_count": 72,
      "outputs": []
    },
    {
      "cell_type": "code",
      "metadata": {
        "id": "k97aZCSELzO_"
      },
      "source": [
        "X_train[scaler_f]=scaler.fit_transform(X_train[scaler_f])\n",
        "X_test[scaler_f]=scaler.fit_transform(X_test[scaler_f])"
      ],
      "execution_count": 73,
      "outputs": []
    },
    {
      "cell_type": "code",
      "metadata": {
        "colab": {
          "base_uri": "https://localhost:8080/",
          "height": 253
        },
        "id": "l5uNXgngs4hW",
        "outputId": "7bc409e9-f550-4398-c4cd-a9ba41612277"
      },
      "source": [
        "X_train.head()"
      ],
      "execution_count": 74,
      "outputs": [
        {
          "output_type": "execute_result",
          "data": {
            "text/html": [
              "<div>\n",
              "<style scoped>\n",
              "    .dataframe tbody tr th:only-of-type {\n",
              "        vertical-align: middle;\n",
              "    }\n",
              "\n",
              "    .dataframe tbody tr th {\n",
              "        vertical-align: top;\n",
              "    }\n",
              "\n",
              "    .dataframe thead th {\n",
              "        text-align: right;\n",
              "    }\n",
              "</style>\n",
              "<table border=\"1\" class=\"dataframe\">\n",
              "  <thead>\n",
              "    <tr style=\"text-align: right;\">\n",
              "      <th></th>\n",
              "      <th>feature1</th>\n",
              "      <th>feature2</th>\n",
              "      <th>feature3</th>\n",
              "      <th>feature4</th>\n",
              "      <th>feature5</th>\n",
              "      <th>feature6</th>\n",
              "      <th>feature7</th>\n",
              "      <th>feature8</th>\n",
              "      <th>feature9</th>\n",
              "      <th>feature10</th>\n",
              "      <th>feature11</th>\n",
              "      <th>feature12</th>\n",
              "      <th>feature13</th>\n",
              "      <th>feature14</th>\n",
              "      <th>feature15</th>\n",
              "      <th>feature16</th>\n",
              "      <th>feature17</th>\n",
              "      <th>feature18</th>\n",
              "      <th>feature19</th>\n",
              "      <th>feature20</th>\n",
              "      <th>feature21</th>\n",
              "      <th>feature22</th>\n",
              "      <th>feature23</th>\n",
              "      <th>feature24</th>\n",
              "      <th>feature25</th>\n",
              "      <th>feature26</th>\n",
              "      <th>feature27</th>\n",
              "      <th>feature28</th>\n",
              "      <th>feature29</th>\n",
              "      <th>feature30</th>\n",
              "      <th>feature31</th>\n",
              "      <th>feature32</th>\n",
              "      <th>feature33</th>\n",
              "      <th>feature34</th>\n",
              "      <th>feature35</th>\n",
              "      <th>feature36</th>\n",
              "      <th>feature37</th>\n",
              "      <th>feature38</th>\n",
              "      <th>feature39</th>\n",
              "      <th>feature40</th>\n",
              "      <th>...</th>\n",
              "      <th>Ag</th>\n",
              "      <th>Cd</th>\n",
              "      <th>In</th>\n",
              "      <th>Sn</th>\n",
              "      <th>Sb</th>\n",
              "      <th>Te</th>\n",
              "      <th>I</th>\n",
              "      <th>Xe</th>\n",
              "      <th>Cs</th>\n",
              "      <th>Ba</th>\n",
              "      <th>La</th>\n",
              "      <th>Ce</th>\n",
              "      <th>Pr</th>\n",
              "      <th>Nd</th>\n",
              "      <th>Pm</th>\n",
              "      <th>Sm</th>\n",
              "      <th>Eu</th>\n",
              "      <th>Gd</th>\n",
              "      <th>Tb</th>\n",
              "      <th>Dy</th>\n",
              "      <th>Ho</th>\n",
              "      <th>Er</th>\n",
              "      <th>Tm</th>\n",
              "      <th>Yb</th>\n",
              "      <th>Lu</th>\n",
              "      <th>Hf</th>\n",
              "      <th>Ta</th>\n",
              "      <th>W</th>\n",
              "      <th>Re</th>\n",
              "      <th>Os</th>\n",
              "      <th>Ir</th>\n",
              "      <th>Pt</th>\n",
              "      <th>Au</th>\n",
              "      <th>Hg</th>\n",
              "      <th>Tl</th>\n",
              "      <th>Pb</th>\n",
              "      <th>Bi</th>\n",
              "      <th>Po</th>\n",
              "      <th>At</th>\n",
              "      <th>Rn</th>\n",
              "    </tr>\n",
              "  </thead>\n",
              "  <tbody>\n",
              "    <tr>\n",
              "      <th>0</th>\n",
              "      <td>-0.078080</td>\n",
              "      <td>0.280610</td>\n",
              "      <td>0.421289</td>\n",
              "      <td>0.584565</td>\n",
              "      <td>0.619230</td>\n",
              "      <td>0.417554</td>\n",
              "      <td>0.590471</td>\n",
              "      <td>-0.356837</td>\n",
              "      <td>-0.478295</td>\n",
              "      <td>-0.413614</td>\n",
              "      <td>-0.330376</td>\n",
              "      <td>-0.327523</td>\n",
              "      <td>-0.583134</td>\n",
              "      <td>-0.132990</td>\n",
              "      <td>-0.511802</td>\n",
              "      <td>0.180991</td>\n",
              "      <td>0.828466</td>\n",
              "      <td>-0.554952</td>\n",
              "      <td>-0.783738</td>\n",
              "      <td>-0.662942</td>\n",
              "      <td>-0.576711</td>\n",
              "      <td>0.580307</td>\n",
              "      <td>0.746947</td>\n",
              "      <td>0.899916</td>\n",
              "      <td>0.826360</td>\n",
              "      <td>0.234365</td>\n",
              "      <td>0.483846</td>\n",
              "      <td>-0.327939</td>\n",
              "      <td>-0.637533</td>\n",
              "      <td>-0.407095</td>\n",
              "      <td>-0.352520</td>\n",
              "      <td>0.592397</td>\n",
              "      <td>0.513075</td>\n",
              "      <td>1.049767</td>\n",
              "      <td>0.892314</td>\n",
              "      <td>0.739528</td>\n",
              "      <td>1.472171</td>\n",
              "      <td>-0.378517</td>\n",
              "      <td>-0.659183</td>\n",
              "      <td>-0.362081</td>\n",
              "      <td>...</td>\n",
              "      <td>0.0</td>\n",
              "      <td>0.0</td>\n",
              "      <td>0.0</td>\n",
              "      <td>0.0</td>\n",
              "      <td>0.0</td>\n",
              "      <td>0.0</td>\n",
              "      <td>0.0</td>\n",
              "      <td>0.0</td>\n",
              "      <td>0.0</td>\n",
              "      <td>0.0</td>\n",
              "      <td>0.0</td>\n",
              "      <td>0.0</td>\n",
              "      <td>0.0</td>\n",
              "      <td>0.0</td>\n",
              "      <td>0.0</td>\n",
              "      <td>0.0</td>\n",
              "      <td>1.0</td>\n",
              "      <td>0.0</td>\n",
              "      <td>0.0</td>\n",
              "      <td>0.0</td>\n",
              "      <td>0.0</td>\n",
              "      <td>0.0</td>\n",
              "      <td>0.0</td>\n",
              "      <td>0.0</td>\n",
              "      <td>0.0</td>\n",
              "      <td>0.0</td>\n",
              "      <td>0.0</td>\n",
              "      <td>0.0</td>\n",
              "      <td>0.0</td>\n",
              "      <td>0.0</td>\n",
              "      <td>0.0</td>\n",
              "      <td>0.0</td>\n",
              "      <td>0.0</td>\n",
              "      <td>0.0</td>\n",
              "      <td>0.0</td>\n",
              "      <td>0.0</td>\n",
              "      <td>0.0</td>\n",
              "      <td>0.0</td>\n",
              "      <td>0.0</td>\n",
              "      <td>0.0</td>\n",
              "    </tr>\n",
              "    <tr>\n",
              "      <th>1</th>\n",
              "      <td>0.617967</td>\n",
              "      <td>-0.147465</td>\n",
              "      <td>-0.412415</td>\n",
              "      <td>-0.382269</td>\n",
              "      <td>-0.613390</td>\n",
              "      <td>0.400869</td>\n",
              "      <td>0.767551</td>\n",
              "      <td>1.418552</td>\n",
              "      <td>-0.297525</td>\n",
              "      <td>1.142619</td>\n",
              "      <td>1.145128</td>\n",
              "      <td>0.121923</td>\n",
              "      <td>0.947457</td>\n",
              "      <td>0.041042</td>\n",
              "      <td>0.942079</td>\n",
              "      <td>0.667361</td>\n",
              "      <td>0.278333</td>\n",
              "      <td>0.623389</td>\n",
              "      <td>0.793338</td>\n",
              "      <td>0.553499</td>\n",
              "      <td>0.856375</td>\n",
              "      <td>-0.412131</td>\n",
              "      <td>-0.996427</td>\n",
              "      <td>-0.505559</td>\n",
              "      <td>-0.966819</td>\n",
              "      <td>0.672611</td>\n",
              "      <td>1.087046</td>\n",
              "      <td>0.474028</td>\n",
              "      <td>-1.000813</td>\n",
              "      <td>0.309323</td>\n",
              "      <td>0.554760</td>\n",
              "      <td>-0.540178</td>\n",
              "      <td>-0.719582</td>\n",
              "      <td>-0.701894</td>\n",
              "      <td>-0.770114</td>\n",
              "      <td>0.261432</td>\n",
              "      <td>0.762221</td>\n",
              "      <td>0.267564</td>\n",
              "      <td>-0.663380</td>\n",
              "      <td>0.346644</td>\n",
              "      <td>...</td>\n",
              "      <td>0.0</td>\n",
              "      <td>0.0</td>\n",
              "      <td>0.0</td>\n",
              "      <td>0.0</td>\n",
              "      <td>0.0</td>\n",
              "      <td>0.0</td>\n",
              "      <td>0.0</td>\n",
              "      <td>0.0</td>\n",
              "      <td>0.0</td>\n",
              "      <td>0.0</td>\n",
              "      <td>0.0</td>\n",
              "      <td>0.0</td>\n",
              "      <td>0.0</td>\n",
              "      <td>0.0</td>\n",
              "      <td>0.0</td>\n",
              "      <td>0.0</td>\n",
              "      <td>0.0</td>\n",
              "      <td>0.0</td>\n",
              "      <td>0.0</td>\n",
              "      <td>0.0</td>\n",
              "      <td>0.0</td>\n",
              "      <td>0.0</td>\n",
              "      <td>0.0</td>\n",
              "      <td>0.0</td>\n",
              "      <td>0.0</td>\n",
              "      <td>0.0</td>\n",
              "      <td>0.0</td>\n",
              "      <td>0.0</td>\n",
              "      <td>0.0</td>\n",
              "      <td>0.0</td>\n",
              "      <td>0.0</td>\n",
              "      <td>0.0</td>\n",
              "      <td>0.0</td>\n",
              "      <td>0.0</td>\n",
              "      <td>0.0</td>\n",
              "      <td>0.0</td>\n",
              "      <td>2.0</td>\n",
              "      <td>0.0</td>\n",
              "      <td>0.0</td>\n",
              "      <td>0.0</td>\n",
              "    </tr>\n",
              "    <tr>\n",
              "      <th>2</th>\n",
              "      <td>-1.470174</td>\n",
              "      <td>-2.176045</td>\n",
              "      <td>-1.382481</td>\n",
              "      <td>-1.615875</td>\n",
              "      <td>-0.915868</td>\n",
              "      <td>-1.512769</td>\n",
              "      <td>-1.567773</td>\n",
              "      <td>-1.787616</td>\n",
              "      <td>-0.553541</td>\n",
              "      <td>-1.767259</td>\n",
              "      <td>-1.664921</td>\n",
              "      <td>4.934902</td>\n",
              "      <td>1.742493</td>\n",
              "      <td>5.703456</td>\n",
              "      <td>2.281752</td>\n",
              "      <td>-1.625052</td>\n",
              "      <td>-0.795286</td>\n",
              "      <td>-0.544616</td>\n",
              "      <td>-0.911304</td>\n",
              "      <td>-0.127093</td>\n",
              "      <td>-0.307062</td>\n",
              "      <td>-4.307265</td>\n",
              "      <td>-1.982566</td>\n",
              "      <td>-3.388564</td>\n",
              "      <td>-1.251781</td>\n",
              "      <td>-1.595559</td>\n",
              "      <td>-1.498217</td>\n",
              "      <td>-1.605144</td>\n",
              "      <td>-0.206732</td>\n",
              "      <td>-1.570608</td>\n",
              "      <td>-1.503304</td>\n",
              "      <td>-1.807910</td>\n",
              "      <td>-1.208594</td>\n",
              "      <td>-0.924808</td>\n",
              "      <td>-0.732198</td>\n",
              "      <td>-3.125277</td>\n",
              "      <td>-2.680695</td>\n",
              "      <td>-1.637092</td>\n",
              "      <td>-0.635139</td>\n",
              "      <td>-1.457595</td>\n",
              "      <td>...</td>\n",
              "      <td>0.0</td>\n",
              "      <td>0.0</td>\n",
              "      <td>0.0</td>\n",
              "      <td>0.0</td>\n",
              "      <td>0.0</td>\n",
              "      <td>0.0</td>\n",
              "      <td>0.0</td>\n",
              "      <td>0.0</td>\n",
              "      <td>0.0</td>\n",
              "      <td>0.0</td>\n",
              "      <td>0.0</td>\n",
              "      <td>0.0</td>\n",
              "      <td>0.0</td>\n",
              "      <td>0.0</td>\n",
              "      <td>0.0</td>\n",
              "      <td>0.0</td>\n",
              "      <td>0.0</td>\n",
              "      <td>0.0</td>\n",
              "      <td>0.0</td>\n",
              "      <td>0.0</td>\n",
              "      <td>0.0</td>\n",
              "      <td>0.0</td>\n",
              "      <td>0.0</td>\n",
              "      <td>0.0</td>\n",
              "      <td>0.0</td>\n",
              "      <td>0.0</td>\n",
              "      <td>0.0</td>\n",
              "      <td>0.0</td>\n",
              "      <td>0.0</td>\n",
              "      <td>0.0</td>\n",
              "      <td>0.0</td>\n",
              "      <td>0.0</td>\n",
              "      <td>0.0</td>\n",
              "      <td>0.0</td>\n",
              "      <td>0.0</td>\n",
              "      <td>0.0</td>\n",
              "      <td>0.0</td>\n",
              "      <td>0.0</td>\n",
              "      <td>0.0</td>\n",
              "      <td>0.0</td>\n",
              "    </tr>\n",
              "    <tr>\n",
              "      <th>3</th>\n",
              "      <td>-0.078080</td>\n",
              "      <td>-0.197601</td>\n",
              "      <td>0.201287</td>\n",
              "      <td>0.157904</td>\n",
              "      <td>0.451945</td>\n",
              "      <td>0.403848</td>\n",
              "      <td>0.211987</td>\n",
              "      <td>-0.625119</td>\n",
              "      <td>-0.164968</td>\n",
              "      <td>-0.574344</td>\n",
              "      <td>-0.574793</td>\n",
              "      <td>-0.317791</td>\n",
              "      <td>-0.611198</td>\n",
              "      <td>-0.178280</td>\n",
              "      <td>-0.577904</td>\n",
              "      <td>0.167882</td>\n",
              "      <td>0.398453</td>\n",
              "      <td>-0.411536</td>\n",
              "      <td>-0.534547</td>\n",
              "      <td>-0.522331</td>\n",
              "      <td>-0.473576</td>\n",
              "      <td>0.530561</td>\n",
              "      <td>0.820474</td>\n",
              "      <td>0.776273</td>\n",
              "      <td>0.845235</td>\n",
              "      <td>0.200090</td>\n",
              "      <td>0.086981</td>\n",
              "      <td>-0.001212</td>\n",
              "      <td>0.139620</td>\n",
              "      <td>-0.008123</td>\n",
              "      <td>-0.057846</td>\n",
              "      <td>0.134718</td>\n",
              "      <td>0.273099</td>\n",
              "      <td>0.717858</td>\n",
              "      <td>0.698011</td>\n",
              "      <td>0.760443</td>\n",
              "      <td>0.664864</td>\n",
              "      <td>-0.801350</td>\n",
              "      <td>-0.039446</td>\n",
              "      <td>-0.805426</td>\n",
              "      <td>...</td>\n",
              "      <td>0.0</td>\n",
              "      <td>0.0</td>\n",
              "      <td>0.0</td>\n",
              "      <td>0.0</td>\n",
              "      <td>0.0</td>\n",
              "      <td>0.0</td>\n",
              "      <td>0.0</td>\n",
              "      <td>0.0</td>\n",
              "      <td>0.0</td>\n",
              "      <td>1.0</td>\n",
              "      <td>0.0</td>\n",
              "      <td>0.0</td>\n",
              "      <td>0.0</td>\n",
              "      <td>0.0</td>\n",
              "      <td>0.0</td>\n",
              "      <td>0.0</td>\n",
              "      <td>0.0</td>\n",
              "      <td>0.0</td>\n",
              "      <td>0.0</td>\n",
              "      <td>0.0</td>\n",
              "      <td>0.0</td>\n",
              "      <td>0.0</td>\n",
              "      <td>0.0</td>\n",
              "      <td>0.0</td>\n",
              "      <td>0.0</td>\n",
              "      <td>0.0</td>\n",
              "      <td>0.0</td>\n",
              "      <td>0.0</td>\n",
              "      <td>0.0</td>\n",
              "      <td>0.0</td>\n",
              "      <td>0.0</td>\n",
              "      <td>0.0</td>\n",
              "      <td>0.0</td>\n",
              "      <td>0.0</td>\n",
              "      <td>0.0</td>\n",
              "      <td>0.0</td>\n",
              "      <td>0.0</td>\n",
              "      <td>0.0</td>\n",
              "      <td>0.0</td>\n",
              "      <td>0.0</td>\n",
              "    </tr>\n",
              "    <tr>\n",
              "      <th>4</th>\n",
              "      <td>-1.470174</td>\n",
              "      <td>-0.678440</td>\n",
              "      <td>-0.100504</td>\n",
              "      <td>-0.448704</td>\n",
              "      <td>0.024683</td>\n",
              "      <td>-1.693816</td>\n",
              "      <td>-1.354435</td>\n",
              "      <td>-0.820168</td>\n",
              "      <td>0.234717</td>\n",
              "      <td>-0.447866</td>\n",
              "      <td>-0.304360</td>\n",
              "      <td>1.030661</td>\n",
              "      <td>-0.137070</td>\n",
              "      <td>1.414392</td>\n",
              "      <td>0.055098</td>\n",
              "      <td>-1.622852</td>\n",
              "      <td>-0.716551</td>\n",
              "      <td>-0.941919</td>\n",
              "      <td>-1.771273</td>\n",
              "      <td>-0.686573</td>\n",
              "      <td>-0.658712</td>\n",
              "      <td>-1.397107</td>\n",
              "      <td>-0.075462</td>\n",
              "      <td>-0.992337</td>\n",
              "      <td>0.116622</td>\n",
              "      <td>-1.681109</td>\n",
              "      <td>-1.264841</td>\n",
              "      <td>-0.788327</td>\n",
              "      <td>-0.006310</td>\n",
              "      <td>-0.371354</td>\n",
              "      <td>-0.369488</td>\n",
              "      <td>0.381763</td>\n",
              "      <td>0.696801</td>\n",
              "      <td>0.397115</td>\n",
              "      <td>0.527572</td>\n",
              "      <td>-1.976301</td>\n",
              "      <td>-1.524763</td>\n",
              "      <td>0.440845</td>\n",
              "      <td>1.150372</td>\n",
              "      <td>1.086691</td>\n",
              "      <td>...</td>\n",
              "      <td>0.0</td>\n",
              "      <td>0.0</td>\n",
              "      <td>0.0</td>\n",
              "      <td>0.0</td>\n",
              "      <td>0.0</td>\n",
              "      <td>0.0</td>\n",
              "      <td>0.0</td>\n",
              "      <td>0.0</td>\n",
              "      <td>0.0</td>\n",
              "      <td>0.0</td>\n",
              "      <td>0.0</td>\n",
              "      <td>0.0</td>\n",
              "      <td>0.0</td>\n",
              "      <td>0.0</td>\n",
              "      <td>0.0</td>\n",
              "      <td>0.0</td>\n",
              "      <td>0.0</td>\n",
              "      <td>0.0</td>\n",
              "      <td>0.0</td>\n",
              "      <td>0.0</td>\n",
              "      <td>0.0</td>\n",
              "      <td>0.0</td>\n",
              "      <td>0.0</td>\n",
              "      <td>0.0</td>\n",
              "      <td>0.0</td>\n",
              "      <td>0.0</td>\n",
              "      <td>0.0</td>\n",
              "      <td>0.0</td>\n",
              "      <td>0.0</td>\n",
              "      <td>0.0</td>\n",
              "      <td>0.0</td>\n",
              "      <td>0.0</td>\n",
              "      <td>0.0</td>\n",
              "      <td>0.0</td>\n",
              "      <td>0.0</td>\n",
              "      <td>0.0</td>\n",
              "      <td>0.0</td>\n",
              "      <td>0.0</td>\n",
              "      <td>0.0</td>\n",
              "      <td>0.0</td>\n",
              "    </tr>\n",
              "  </tbody>\n",
              "</table>\n",
              "<p>5 rows × 167 columns</p>\n",
              "</div>"
            ],
            "text/plain": [
              "   feature1  feature2  feature3  feature4  feature5  ...   Pb   Bi   Po   At   Rn\n",
              "0 -0.078080  0.280610  0.421289  0.584565  0.619230  ...  0.0  0.0  0.0  0.0  0.0\n",
              "1  0.617967 -0.147465 -0.412415 -0.382269 -0.613390  ...  0.0  2.0  0.0  0.0  0.0\n",
              "2 -1.470174 -2.176045 -1.382481 -1.615875 -0.915868  ...  0.0  0.0  0.0  0.0  0.0\n",
              "3 -0.078080 -0.197601  0.201287  0.157904  0.451945  ...  0.0  0.0  0.0  0.0  0.0\n",
              "4 -1.470174 -0.678440 -0.100504 -0.448704  0.024683  ...  0.0  0.0  0.0  0.0  0.0\n",
              "\n",
              "[5 rows x 167 columns]"
            ]
          },
          "metadata": {
            "tags": []
          },
          "execution_count": 74
        }
      ]
    },
    {
      "cell_type": "code",
      "metadata": {
        "id": "ZakgD03bs3eg"
      },
      "source": [
        "import torch\n",
        "from torch import nn\n",
        "from torch.utils.data import Dataset,DataLoader"
      ],
      "execution_count": 75,
      "outputs": []
    },
    {
      "cell_type": "code",
      "metadata": {
        "id": "k2HsIr0xuoka"
      },
      "source": [
        "class MyCustomDatasetTrain(Dataset):\n",
        "  def __init__(self,X,y):\n",
        "    self.X=torch.tensor(X.values,dtype=torch.float32)\n",
        "    self.y=torch.tensor(y.values,dtype=torch.float32)\n",
        "    #self.y=torch.from_numpy(y.values)    \n",
        "  \n",
        "  def __len__(self):\n",
        "    return self.X.shape[0]\n",
        "\n",
        "  def __getitem__(self,idx):    \n",
        "    item   = self.X[idx]\n",
        "    target = self.y[idx]\n",
        "    return (item,target)\n"
      ],
      "execution_count": 76,
      "outputs": []
    },
    {
      "cell_type": "code",
      "metadata": {
        "id": "BZA8SfEq876l"
      },
      "source": [
        "# from sklearn.model_selection import train_test_split\n",
        "# X_t,X_v,y_t,y_v=train_test_split(X_train,y_train,test_size=0.2,shuffle=True)\n",
        "# X_t_dataset=MyCustomDatasetTrain(X_t,y_t)\n",
        "# X_t_dataloader=DataLoader(X_t_dataset,batch_size=200,shuffle=True)\n",
        "# X_v_dataset=MyCustomDatasetTrain(X_v,y_v)\n",
        "# X_v_dataloader=DataLoader(X_v_dataset,batch_size=200,shuffle=False)"
      ],
      "execution_count": 77,
      "outputs": []
    },
    {
      "cell_type": "code",
      "metadata": {
        "id": "eDo2HRgjvScl"
      },
      "source": [
        "train_dataset=MyCustomDatasetTrain(X_train,y_train)\n",
        "train_dataloader=DataLoader(train_dataset,batch_size=200,shuffle=True)\n",
        "\n",
        "train_dataloader_false_shufle=DataLoader(train_dataset,batch_size=200,shuffle=False)"
      ],
      "execution_count": 78,
      "outputs": []
    },
    {
      "cell_type": "code",
      "metadata": {
        "id": "cqESI2QfyrTo"
      },
      "source": [
        "class MyCustomDatasetTest(Dataset):\n",
        "  def __init__(self,X):\n",
        "    self.X=torch.tensor(X.values,dtype=torch.float32)   \n",
        "  \n",
        "  def __len__(self):\n",
        "    return self.X.shape[0]\n",
        "\n",
        "  def __getitem__(self,idx):    \n",
        "    item   = self.X[idx]    \n",
        "    return item\n"
      ],
      "execution_count": 79,
      "outputs": []
    },
    {
      "cell_type": "code",
      "metadata": {
        "id": "tW542JRIyyxu"
      },
      "source": [
        "test_dataset=MyCustomDatasetTest(X_test)\n",
        "test_dataloader=DataLoader(test_dataset,batch_size=200,shuffle=False)"
      ],
      "execution_count": 80,
      "outputs": []
    },
    {
      "cell_type": "markdown",
      "metadata": {
        "id": "wpzWXDw1ZStX"
      },
      "source": [
        ""
      ]
    },
    {
      "cell_type": "code",
      "metadata": {
        "id": "0GSWKpIl0axx"
      },
      "source": [
        "inp=X_train.shape[1]"
      ],
      "execution_count": 81,
      "outputs": []
    },
    {
      "cell_type": "code",
      "metadata": {
        "colab": {
          "base_uri": "https://localhost:8080/"
        },
        "id": "w8WMhCFP092I",
        "outputId": "f71682b8-af2b-495c-a47e-a84c6d53bf17"
      },
      "source": [
        "torch.manual_seed(42) \n",
        "np.random.seed(42)\n",
        "k=4\n",
        "model = nn.Sequential(\n",
        "  \n",
        "    nn.Linear(inp, inp*k),    \n",
        "    nn.BatchNorm1d(inp*k), \n",
        "    #nn.Dropout(0.4),\n",
        "    nn.ReLU(),\n",
        "    \n",
        "    nn.Linear(inp*k, inp*k),\n",
        "    nn.BatchNorm1d(inp*k),    \n",
        "    #nn.Dropout(0.3),\n",
        "    nn.ReLU(),\n",
        "\n",
        "    nn.Linear(inp*k, inp*k),\n",
        "    nn.BatchNorm1d(inp*k),    \n",
        "    #nn.Dropout(0.3),\n",
        "    nn.ReLU(),\n",
        "\n",
        "    nn.Linear(inp*k, inp*k),\n",
        "    nn.BatchNorm1d(inp*k),    \n",
        "    #nn.Dropout(0.3),\n",
        "    nn.ReLU(),    \n",
        "\n",
        "    nn.Linear(inp*k, 1)\n",
        ")\n",
        "    \n",
        "loss_fn = nn.MSELoss()\n",
        "optimizer = torch.optim.Adam(model.parameters(),lr=0.01)\n",
        "scheduler = torch.optim.lr_scheduler.StepLR(optimizer,step_size=7,gamma=0.5,verbose=True)\n"
      ],
      "execution_count": 82,
      "outputs": [
        {
          "output_type": "stream",
          "text": [
            "Adjusting learning rate of group 0 to 1.0000e-02.\n"
          ],
          "name": "stdout"
        }
      ]
    },
    {
      "cell_type": "code",
      "metadata": {
        "id": "LSKqUTq45itt"
      },
      "source": [
        "import tqdm\n"
      ],
      "execution_count": 83,
      "outputs": []
    },
    {
      "cell_type": "code",
      "metadata": {
        "id": "02b1sU8j1DvF"
      },
      "source": [
        "def train(num_epoch):    \n",
        "\n",
        "    train_loss_arr=[]\n",
        "    train_acc_arr=[]\n",
        "\n",
        "    for i in tqdm.trange(num_epoch):\n",
        "        running_loss = 0.0\n",
        "        running_corrects = 0\n",
        "        processed_size = 0\n",
        "\n",
        "        \n",
        "        for X_batch, y_batch in train_dataloader:\n",
        "        #for X_batch, y_batch in X_t_dataloader:\n",
        "            optimizer.zero_grad()\n",
        "          \n",
        "            y_pred=model(X_batch)\n",
        "            loss=loss_fn(y_pred,y_batch)\n",
        "\n",
        "            loss.backward()\n",
        "            \n",
        "            optimizer.step()            \n",
        "\n",
        "            running_loss += loss.item() * y_batch.size(0)            \n",
        "            running_corrects += torch.mean((y_pred.detach()-y_batch).pow(2))            \n",
        "            processed_size += y_batch.size(0)\n",
        "\n",
        "        train_loss_arr.append(running_loss / processed_size)\n",
        "        #train_acc_arr.append(running_corrects.double() / processed_size)\n",
        "        train_acc_arr.append((running_corrects / processed_size).numpy())\n",
        "        scheduler.step()\n",
        "           \n",
        "        \n",
        "    return train_loss_arr,train_acc_arr"
      ],
      "execution_count": 84,
      "outputs": []
    },
    {
      "cell_type": "code",
      "metadata": {
        "colab": {
          "base_uri": "https://localhost:8080/"
        },
        "id": "j5E3pOYl1HsP",
        "outputId": "9b21f24a-d245-4067-e6a8-642f943b43de"
      },
      "source": [
        "train_loss_arr,train_acc_arr=train(13)"
      ],
      "execution_count": 85,
      "outputs": [
        {
          "output_type": "stream",
          "text": [
            "  8%|▊         | 1/13 [00:06<01:16,  6.39s/it]"
          ],
          "name": "stderr"
        },
        {
          "output_type": "stream",
          "text": [
            "Adjusting learning rate of group 0 to 1.0000e-02.\n"
          ],
          "name": "stdout"
        },
        {
          "output_type": "stream",
          "text": [
            "\r 15%|█▌        | 2/13 [00:12<01:09,  6.32s/it]"
          ],
          "name": "stderr"
        },
        {
          "output_type": "stream",
          "text": [
            "Adjusting learning rate of group 0 to 1.0000e-02.\n"
          ],
          "name": "stdout"
        },
        {
          "output_type": "stream",
          "text": [
            "\r 23%|██▎       | 3/13 [00:18<01:02,  6.26s/it]"
          ],
          "name": "stderr"
        },
        {
          "output_type": "stream",
          "text": [
            "Adjusting learning rate of group 0 to 1.0000e-02.\n"
          ],
          "name": "stdout"
        },
        {
          "output_type": "stream",
          "text": [
            "\r 31%|███       | 4/13 [00:24<00:55,  6.22s/it]"
          ],
          "name": "stderr"
        },
        {
          "output_type": "stream",
          "text": [
            "Adjusting learning rate of group 0 to 1.0000e-02.\n"
          ],
          "name": "stdout"
        },
        {
          "output_type": "stream",
          "text": [
            "\r 38%|███▊      | 5/13 [00:30<00:49,  6.18s/it]"
          ],
          "name": "stderr"
        },
        {
          "output_type": "stream",
          "text": [
            "Adjusting learning rate of group 0 to 1.0000e-02.\n"
          ],
          "name": "stdout"
        },
        {
          "output_type": "stream",
          "text": [
            "\r 46%|████▌     | 6/13 [00:36<00:43,  6.16s/it]"
          ],
          "name": "stderr"
        },
        {
          "output_type": "stream",
          "text": [
            "Adjusting learning rate of group 0 to 1.0000e-02.\n"
          ],
          "name": "stdout"
        },
        {
          "output_type": "stream",
          "text": [
            "\r 54%|█████▍    | 7/13 [00:43<00:36,  6.15s/it]"
          ],
          "name": "stderr"
        },
        {
          "output_type": "stream",
          "text": [
            "Adjusting learning rate of group 0 to 5.0000e-03.\n"
          ],
          "name": "stdout"
        },
        {
          "output_type": "stream",
          "text": [
            "\r 62%|██████▏   | 8/13 [00:49<00:30,  6.14s/it]"
          ],
          "name": "stderr"
        },
        {
          "output_type": "stream",
          "text": [
            "Adjusting learning rate of group 0 to 5.0000e-03.\n"
          ],
          "name": "stdout"
        },
        {
          "output_type": "stream",
          "text": [
            "\r 69%|██████▉   | 9/13 [00:55<00:24,  6.13s/it]"
          ],
          "name": "stderr"
        },
        {
          "output_type": "stream",
          "text": [
            "Adjusting learning rate of group 0 to 5.0000e-03.\n"
          ],
          "name": "stdout"
        },
        {
          "output_type": "stream",
          "text": [
            "\r 77%|███████▋  | 10/13 [01:01<00:18,  6.13s/it]"
          ],
          "name": "stderr"
        },
        {
          "output_type": "stream",
          "text": [
            "Adjusting learning rate of group 0 to 5.0000e-03.\n"
          ],
          "name": "stdout"
        },
        {
          "output_type": "stream",
          "text": [
            "\r 85%|████████▍ | 11/13 [01:07<00:12,  6.12s/it]"
          ],
          "name": "stderr"
        },
        {
          "output_type": "stream",
          "text": [
            "Adjusting learning rate of group 0 to 5.0000e-03.\n"
          ],
          "name": "stdout"
        },
        {
          "output_type": "stream",
          "text": [
            "\r 92%|█████████▏| 12/13 [01:13<00:06,  6.12s/it]"
          ],
          "name": "stderr"
        },
        {
          "output_type": "stream",
          "text": [
            "Adjusting learning rate of group 0 to 5.0000e-03.\n"
          ],
          "name": "stdout"
        },
        {
          "output_type": "stream",
          "text": [
            "100%|██████████| 13/13 [01:19<00:00,  6.13s/it]"
          ],
          "name": "stderr"
        },
        {
          "output_type": "stream",
          "text": [
            "Adjusting learning rate of group 0 to 5.0000e-03.\n"
          ],
          "name": "stdout"
        },
        {
          "output_type": "stream",
          "text": [
            "\n"
          ],
          "name": "stderr"
        }
      ]
    },
    {
      "cell_type": "code",
      "metadata": {
        "colab": {
          "base_uri": "https://localhost:8080/",
          "height": 265
        },
        "id": "LodNac8O4Ysz",
        "outputId": "cafb22e9-0fe4-4a10-e545-cffc8a5fff52"
      },
      "source": [
        "plt.scatter(range(len(train_loss_arr)), train_loss_arr);\n"
      ],
      "execution_count": 86,
      "outputs": [
        {
          "output_type": "display_data",
          "data": {
            "image/png": "[encoded data removed]",
            "text/plain": [
              "<Figure size 432x288 with 1 Axes>"
            ]
          },
          "metadata": {
            "tags": [],
            "needs_background": "light"
          }
        }
      ]
    },
    {
      "cell_type": "code",
      "metadata": {
        "colab": {
          "base_uri": "https://localhost:8080/",
          "height": 265
        },
        "id": "e7EjYn741N2q",
        "outputId": "0c54db16-d170-4a3c-888b-e06ed01c1452"
      },
      "source": [
        "plt.scatter(range(len(train_acc_arr)), train_acc_arr);\n"
      ],
      "execution_count": 87,
      "outputs": [
        {
          "output_type": "display_data",
          "data": {
            "image/png": "[encoded data removed]",
            "text/plain": [
              "<Figure size 432x288 with 1 Axes>"
            ]
          },
          "metadata": {
            "tags": [],
            "needs_background": "light"
          }
        }
      ]
    },
    {
      "cell_type": "code",
      "metadata": {
        "id": "O2AVmgvA_oVA"
      },
      "source": [
        "from sklearn.metrics import r2_score\n"
      ],
      "execution_count": 88,
      "outputs": []
    },
    {
      "cell_type": "code",
      "metadata": {
        "id": "gi6DxjRl_3n_"
      },
      "source": [
        "model.eval()\n",
        "with torch.no_grad():\n",
        "  pred=np.array([])\n",
        "  #for inputs,_ in X_v_dataloader:      \n",
        "  for inputs in test_dataloader:   \n",
        "  #for inputs,_ in train_dataloader_false_shufle:\n",
        "    model.eval()\n",
        "    outputs = model(inputs)    \n",
        "    pred=np.concatenate((pred,outputs.numpy().reshape(-1)),axis=0)"
      ],
      "execution_count": 89,
      "outputs": []
    },
    {
      "cell_type": "code",
      "metadata": {
        "id": "f4wmHcyZXFcg"
      },
      "source": [
        "prediction=pd.DataFrame(data={'prediction':pred})\n",
        "prediction.to_csv(\"answer.csv\", header=None,index=False)"
      ],
      "execution_count": 90,
      "outputs": []
    },
    {
      "cell_type": "code",
      "metadata": {
        "id": "3rMqfDxlgC8x",
        "colab": {
          "base_uri": "https://localhost:8080/"
        },
        "outputId": "28de2ff5-1a00-4c3b-81de-c8e5ea47e4ee"
      },
      "source": [
        "prediction.shape"
      ],
      "execution_count": 91,
      "outputs": [
        {
          "output_type": "execute_result",
          "data": {
            "text/plain": [
              "(4263, 1)"
            ]
          },
          "metadata": {
            "tags": []
          },
          "execution_count": 91
        }
      ]
    },
    {
      "cell_type": "code",
      "metadata": {
        "colab": {
          "base_uri": "https://localhost:8080/"
        },
        "id": "meJaOE9kBK1k",
        "outputId": "99c42877-245b-4b0d-f3d9-88d2898b506c"
      },
      "source": [
        "y_train.shape"
      ],
      "execution_count": 92,
      "outputs": [
        {
          "output_type": "execute_result",
          "data": {
            "text/plain": [
              "(17000, 1)"
            ]
          },
          "metadata": {
            "tags": []
          },
          "execution_count": 92
        }
      ]
    },
    {
      "cell_type": "code",
      "metadata": {
        "id": "ewLOAfW5FHLP"
      },
      "source": [
        ""
      ],
      "execution_count": 92,
      "outputs": []
    }
  ]
}